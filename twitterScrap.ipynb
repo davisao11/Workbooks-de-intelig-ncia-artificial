{
  "nbformat": 4,
  "nbformat_minor": 0,
  "metadata": {
    "colab": {
      "name": "twitterScrap.ipynb",
      "provenance": []
    },
    "kernelspec": {
      "name": "python3",
      "display_name": "Python 3"
    },
    "language_info": {
      "name": "python"
    }
  },
  "cells": [
    {
      "cell_type": "markdown",
      "source": [
        "Passo 1: instalar a biblioteca snscrape."
      ],
      "metadata": {
        "id": "HU1zmcMsanF7"
      }
    },
    {
      "cell_type": "code",
      "source": [
        "!pip3 install snscrape"
      ],
      "metadata": {
        "colab": {
          "base_uri": "https://localhost:8080/"
        },
        "id": "-ydkeQo-avyr",
        "outputId": "fcecec46-746c-48cd-be04-da397876a67f"
      },
      "execution_count": null,
      "outputs": [
        {
          "output_type": "stream",
          "name": "stdout",
          "text": [
            "Looking in indexes: https://pypi.org/simple, https://us-python.pkg.dev/colab-wheels/public/simple/\n",
            "Collecting snscrape\n",
            "  Downloading snscrape-0.3.4-py3-none-any.whl (35 kB)\n",
            "Requirement already satisfied: beautifulsoup4 in /usr/local/lib/python3.7/dist-packages (from snscrape) (4.6.3)\n",
            "Requirement already satisfied: requests[socks] in /usr/local/lib/python3.7/dist-packages (from snscrape) (2.23.0)\n",
            "Requirement already satisfied: lxml in /usr/local/lib/python3.7/dist-packages (from snscrape) (4.2.6)\n",
            "Requirement already satisfied: urllib3!=1.25.0,!=1.25.1,<1.26,>=1.21.1 in /usr/local/lib/python3.7/dist-packages (from requests[socks]->snscrape) (1.24.3)\n",
            "Requirement already satisfied: idna<3,>=2.5 in /usr/local/lib/python3.7/dist-packages (from requests[socks]->snscrape) (2.10)\n",
            "Requirement already satisfied: chardet<4,>=3.0.2 in /usr/local/lib/python3.7/dist-packages (from requests[socks]->snscrape) (3.0.4)\n",
            "Requirement already satisfied: certifi>=2017.4.17 in /usr/local/lib/python3.7/dist-packages (from requests[socks]->snscrape) (2022.5.18.1)\n",
            "Requirement already satisfied: PySocks!=1.5.7,>=1.5.6 in /usr/local/lib/python3.7/dist-packages (from requests[socks]->snscrape) (1.7.1)\n",
            "Installing collected packages: snscrape\n",
            "Successfully installed snscrape-0.3.4\n"
          ]
        }
      ]
    },
    {
      "cell_type": "markdown",
      "source": [
        "Passo 2: importar as bibliotecas que serão utilizadas."
      ],
      "metadata": {
        "id": "ltu7yyuKbAin"
      }
    },
    {
      "cell_type": "code",
      "source": [
        "import snscrape.modules.twitter as tw\n",
        "import pandas as pd\n",
        "import datetime"
      ],
      "metadata": {
        "id": "7vToO91-bEKo"
      },
      "execution_count": null,
      "outputs": []
    },
    {
      "cell_type": "markdown",
      "source": [
        "Passo 3: criar uma lista que armazenará os posts do tweeter"
      ],
      "metadata": {
        "id": "gHZDrlaZbYLe"
      }
    },
    {
      "cell_type": "code",
      "source": [
        "lista_league_of_legends = []"
      ],
      "metadata": {
        "id": "DHNcmk9kbc8-"
      },
      "execution_count": null,
      "outputs": []
    },
    {
      "cell_type": "markdown",
      "source": [
        "Passo 4: vamos setar o período de pesquisa (data inicial e data final)"
      ],
      "metadata": {
        "id": "x97T1eD-bvtf"
      }
    },
    {
      "cell_type": "code",
      "source": [
        "data_inicial = '2022-06-13'\n",
        "data_final = datetime.date.today()\n",
        "\n",
        "print(\"Data final:\", data_final)"
      ],
      "metadata": {
        "colab": {
          "base_uri": "https://localhost:8080/"
        },
        "id": "QE2q70rQb1zH",
        "outputId": "9b38d21d-dab2-410f-ac4a-ad30e91e9a6d"
      },
      "execution_count": null,
      "outputs": [
        {
          "output_type": "stream",
          "name": "stdout",
          "text": [
            "Data final: 2022-06-14\n"
          ]
        }
      ]
    },
    {
      "cell_type": "markdown",
      "source": [
        "Passo 5: vamos armazenar os posts na variável lista_league_of_legends."
      ],
      "metadata": {
        "id": "l1z8Vf2AcPf4"
      }
    },
    {
      "cell_type": "code",
      "source": [
        "for i, tweet in enumerate(tw.TwitterSearchScraper(f'{\"league of legends\"} + since:{data_inicial} until:{data_final}').get_items()):\n",
        "   if i > 1000:\n",
        "     break\n",
        "   lista_league_of_legends.append([tweet.date, tweet.id, tweet.content, tweet.username])"
      ],
      "metadata": {
        "id": "IzAuTcmecY4Q"
      },
      "execution_count": null,
      "outputs": []
    },
    {
      "cell_type": "markdown",
      "source": [
        "Passo 6: vamos ver os resultados recuperados pela pesquisa."
      ],
      "metadata": {
        "id": "23--9WUmd_MX"
      }
    },
    {
      "cell_type": "code",
      "source": [
        "len(lista_league_of_legends)"
      ],
      "metadata": {
        "colab": {
          "base_uri": "https://localhost:8080/"
        },
        "id": "LGNoJbcheCl_",
        "outputId": "cc9201f5-ee0b-4e36-893f-96db834aa654"
      },
      "execution_count": null,
      "outputs": [
        {
          "output_type": "execute_result",
          "data": {
            "text/plain": [
              "3136"
            ]
          },
          "metadata": {},
          "execution_count": 13
        }
      ]
    },
    {
      "cell_type": "markdown",
      "source": [
        "Passo 7: vamos passar os resultados para um data frame."
      ],
      "metadata": {
        "id": "TRp_vMzDeLE8"
      }
    },
    {
      "cell_type": "code",
      "source": [
        "df_league_of_legends = pd.DataFrame(lista_league_of_legends, columns=[\"Data\", \"Id do tweet\", \"Texto\", \"Usuario\"])"
      ],
      "metadata": {
        "id": "8KyHsCT_eQJD"
      },
      "execution_count": null,
      "outputs": []
    },
    {
      "cell_type": "code",
      "source": [
        "df_league_of_legends"
      ],
      "metadata": {
        "colab": {
          "base_uri": "https://localhost:8080/",
          "height": 641
        },
        "id": "9AeRAIw3egV5",
        "outputId": "f1093f08-6540-4ccc-c82e-f156c39189d9"
      },
      "execution_count": null,
      "outputs": [
        {
          "output_type": "execute_result",
          "data": {
            "text/plain": [
              "                          Data          Id do tweet  \\\n",
              "0    2022-06-13 23:59:49+00:00  1536498609151164418   \n",
              "1    2022-06-13 23:59:08+00:00  1536498436677173251   \n",
              "2    2022-06-13 23:58:29+00:00  1536498271413223425   \n",
              "3    2022-06-13 23:57:36+00:00  1536498051111653376   \n",
              "4    2022-06-13 23:57:24+00:00  1536497997990834184   \n",
              "...                        ...                  ...   \n",
              "3131 2022-06-13 18:12:40+00:00  1536411245204721665   \n",
              "3132 2022-06-13 18:12:37+00:00  1536411232206462979   \n",
              "3133 2022-06-13 18:12:22+00:00  1536411168625270784   \n",
              "3134 2022-06-13 18:12:01+00:00  1536411082767613953   \n",
              "3135 2022-06-13 18:11:58+00:00  1536411068846710790   \n",
              "\n",
              "                                                  Texto         Usuario  \n",
              "0     Come watch the best solo caster and producer i...         rob4493  \n",
              "1     https://t.co/bJNaTwfIdV\\nLol Patch 12.12 Buffs...  Moises90883534  \n",
              "2     Alguien para perder unos #lolitos???? 🧡​🤨​\\n#L...     Yaniss_Tamy  \n",
              "3     Second Stream of the day (as per usual) come h...     davidkoopa7  \n",
              "4     Bora de campeonato de #LOR #LegendsofRuneterra...   GamerSquadBRL  \n",
              "...                                                 ...             ...  \n",
              "3131  @K82_LFC @wilsoncgp @Punting21 @Lowfields_soci...     Pifftonlemz  \n",
              "3132  @WildRiftNewsBr tudo oq a riot faz é bom, meno...         jeffzme  \n",
              "3133  Reinstalling league of legends to suffer again...      SupHellcat  \n",
              "3134  i miss when league of legends like hyped up th...        Trophyxt  \n",
              "3135  Jumping back into the Legend of League, join m...        meyrlock  \n",
              "\n",
              "[3136 rows x 4 columns]"
            ],
            "text/html": [
              "\n",
              "  <div id=\"df-62bc02cc-97bc-4264-824e-1991e4d24ab8\">\n",
              "    <div class=\"colab-df-container\">\n",
              "      <div>\n",
              "<style scoped>\n",
              "    .dataframe tbody tr th:only-of-type {\n",
              "        vertical-align: middle;\n",
              "    }\n",
              "\n",
              "    .dataframe tbody tr th {\n",
              "        vertical-align: top;\n",
              "    }\n",
              "\n",
              "    .dataframe thead th {\n",
              "        text-align: right;\n",
              "    }\n",
              "</style>\n",
              "<table border=\"1\" class=\"dataframe\">\n",
              "  <thead>\n",
              "    <tr style=\"text-align: right;\">\n",
              "      <th></th>\n",
              "      <th>Data</th>\n",
              "      <th>Id do tweet</th>\n",
              "      <th>Texto</th>\n",
              "      <th>Usuario</th>\n",
              "    </tr>\n",
              "  </thead>\n",
              "  <tbody>\n",
              "    <tr>\n",
              "      <th>0</th>\n",
              "      <td>2022-06-13 23:59:49+00:00</td>\n",
              "      <td>1536498609151164418</td>\n",
              "      <td>Come watch the best solo caster and producer i...</td>\n",
              "      <td>rob4493</td>\n",
              "    </tr>\n",
              "    <tr>\n",
              "      <th>1</th>\n",
              "      <td>2022-06-13 23:59:08+00:00</td>\n",
              "      <td>1536498436677173251</td>\n",
              "      <td>https://t.co/bJNaTwfIdV\\nLol Patch 12.12 Buffs...</td>\n",
              "      <td>Moises90883534</td>\n",
              "    </tr>\n",
              "    <tr>\n",
              "      <th>2</th>\n",
              "      <td>2022-06-13 23:58:29+00:00</td>\n",
              "      <td>1536498271413223425</td>\n",
              "      <td>Alguien para perder unos #lolitos???? 🧡​🤨​\\n#L...</td>\n",
              "      <td>Yaniss_Tamy</td>\n",
              "    </tr>\n",
              "    <tr>\n",
              "      <th>3</th>\n",
              "      <td>2022-06-13 23:57:36+00:00</td>\n",
              "      <td>1536498051111653376</td>\n",
              "      <td>Second Stream of the day (as per usual) come h...</td>\n",
              "      <td>davidkoopa7</td>\n",
              "    </tr>\n",
              "    <tr>\n",
              "      <th>4</th>\n",
              "      <td>2022-06-13 23:57:24+00:00</td>\n",
              "      <td>1536497997990834184</td>\n",
              "      <td>Bora de campeonato de #LOR #LegendsofRuneterra...</td>\n",
              "      <td>GamerSquadBRL</td>\n",
              "    </tr>\n",
              "    <tr>\n",
              "      <th>...</th>\n",
              "      <td>...</td>\n",
              "      <td>...</td>\n",
              "      <td>...</td>\n",
              "      <td>...</td>\n",
              "    </tr>\n",
              "    <tr>\n",
              "      <th>3131</th>\n",
              "      <td>2022-06-13 18:12:40+00:00</td>\n",
              "      <td>1536411245204721665</td>\n",
              "      <td>@K82_LFC @wilsoncgp @Punting21 @Lowfields_soci...</td>\n",
              "      <td>Pifftonlemz</td>\n",
              "    </tr>\n",
              "    <tr>\n",
              "      <th>3132</th>\n",
              "      <td>2022-06-13 18:12:37+00:00</td>\n",
              "      <td>1536411232206462979</td>\n",
              "      <td>@WildRiftNewsBr tudo oq a riot faz é bom, meno...</td>\n",
              "      <td>jeffzme</td>\n",
              "    </tr>\n",
              "    <tr>\n",
              "      <th>3133</th>\n",
              "      <td>2022-06-13 18:12:22+00:00</td>\n",
              "      <td>1536411168625270784</td>\n",
              "      <td>Reinstalling league of legends to suffer again...</td>\n",
              "      <td>SupHellcat</td>\n",
              "    </tr>\n",
              "    <tr>\n",
              "      <th>3134</th>\n",
              "      <td>2022-06-13 18:12:01+00:00</td>\n",
              "      <td>1536411082767613953</td>\n",
              "      <td>i miss when league of legends like hyped up th...</td>\n",
              "      <td>Trophyxt</td>\n",
              "    </tr>\n",
              "    <tr>\n",
              "      <th>3135</th>\n",
              "      <td>2022-06-13 18:11:58+00:00</td>\n",
              "      <td>1536411068846710790</td>\n",
              "      <td>Jumping back into the Legend of League, join m...</td>\n",
              "      <td>meyrlock</td>\n",
              "    </tr>\n",
              "  </tbody>\n",
              "</table>\n",
              "<p>3136 rows × 4 columns</p>\n",
              "</div>\n",
              "      <button class=\"colab-df-convert\" onclick=\"convertToInteractive('df-62bc02cc-97bc-4264-824e-1991e4d24ab8')\"\n",
              "              title=\"Convert this dataframe to an interactive table.\"\n",
              "              style=\"display:none;\">\n",
              "        \n",
              "  <svg xmlns=\"http://www.w3.org/2000/svg\" height=\"24px\"viewBox=\"0 0 24 24\"\n",
              "       width=\"24px\">\n",
              "    <path d=\"M0 0h24v24H0V0z\" fill=\"none\"/>\n",
              "    <path d=\"M18.56 5.44l.94 2.06.94-2.06 2.06-.94-2.06-.94-.94-2.06-.94 2.06-2.06.94zm-11 1L8.5 8.5l.94-2.06 2.06-.94-2.06-.94L8.5 2.5l-.94 2.06-2.06.94zm10 10l.94 2.06.94-2.06 2.06-.94-2.06-.94-.94-2.06-.94 2.06-2.06.94z\"/><path d=\"M17.41 7.96l-1.37-1.37c-.4-.4-.92-.59-1.43-.59-.52 0-1.04.2-1.43.59L10.3 9.45l-7.72 7.72c-.78.78-.78 2.05 0 2.83L4 21.41c.39.39.9.59 1.41.59.51 0 1.02-.2 1.41-.59l7.78-7.78 2.81-2.81c.8-.78.8-2.07 0-2.86zM5.41 20L4 18.59l7.72-7.72 1.47 1.35L5.41 20z\"/>\n",
              "  </svg>\n",
              "      </button>\n",
              "      \n",
              "  <style>\n",
              "    .colab-df-container {\n",
              "      display:flex;\n",
              "      flex-wrap:wrap;\n",
              "      gap: 12px;\n",
              "    }\n",
              "\n",
              "    .colab-df-convert {\n",
              "      background-color: #E8F0FE;\n",
              "      border: none;\n",
              "      border-radius: 50%;\n",
              "      cursor: pointer;\n",
              "      display: none;\n",
              "      fill: #1967D2;\n",
              "      height: 32px;\n",
              "      padding: 0 0 0 0;\n",
              "      width: 32px;\n",
              "    }\n",
              "\n",
              "    .colab-df-convert:hover {\n",
              "      background-color: #E2EBFA;\n",
              "      box-shadow: 0px 1px 2px rgba(60, 64, 67, 0.3), 0px 1px 3px 1px rgba(60, 64, 67, 0.15);\n",
              "      fill: #174EA6;\n",
              "    }\n",
              "\n",
              "    [theme=dark] .colab-df-convert {\n",
              "      background-color: #3B4455;\n",
              "      fill: #D2E3FC;\n",
              "    }\n",
              "\n",
              "    [theme=dark] .colab-df-convert:hover {\n",
              "      background-color: #434B5C;\n",
              "      box-shadow: 0px 1px 3px 1px rgba(0, 0, 0, 0.15);\n",
              "      filter: drop-shadow(0px 1px 2px rgba(0, 0, 0, 0.3));\n",
              "      fill: #FFFFFF;\n",
              "    }\n",
              "  </style>\n",
              "\n",
              "      <script>\n",
              "        const buttonEl =\n",
              "          document.querySelector('#df-62bc02cc-97bc-4264-824e-1991e4d24ab8 button.colab-df-convert');\n",
              "        buttonEl.style.display =\n",
              "          google.colab.kernel.accessAllowed ? 'block' : 'none';\n",
              "\n",
              "        async function convertToInteractive(key) {\n",
              "          const element = document.querySelector('#df-62bc02cc-97bc-4264-824e-1991e4d24ab8');\n",
              "          const dataTable =\n",
              "            await google.colab.kernel.invokeFunction('convertToInteractive',\n",
              "                                                     [key], {});\n",
              "          if (!dataTable) return;\n",
              "\n",
              "          const docLinkHtml = 'Like what you see? Visit the ' +\n",
              "            '<a target=\"_blank\" href=https://colab.research.google.com/notebooks/data_table.ipynb>data table notebook</a>'\n",
              "            + ' to learn more about interactive tables.';\n",
              "          element.innerHTML = '';\n",
              "          dataTable['output_type'] = 'display_data';\n",
              "          await google.colab.output.renderOutput(dataTable, element);\n",
              "          const docLink = document.createElement('div');\n",
              "          docLink.innerHTML = docLinkHtml;\n",
              "          element.appendChild(docLink);\n",
              "        }\n",
              "      </script>\n",
              "    </div>\n",
              "  </div>\n",
              "  "
            ]
          },
          "metadata": {},
          "execution_count": 15
        }
      ]
    },
    {
      "cell_type": "code",
      "source": [
        "df_league_of_legends.to_csv(\"league_of_legends.csv\")"
      ],
      "metadata": {
        "id": "hb2i7u0QeqrC"
      },
      "execution_count": null,
      "outputs": []
    },
    {
      "cell_type": "markdown",
      "source": [
        "Exercício: crie um data frame que armazena todos os tweets que citam Bolsonaro e outro que citam Lula."
      ],
      "metadata": {
        "id": "9vp5WahSe6Lz"
      }
    },
    {
      "cell_type": "markdown",
      "source": [
        "Exercício 1: Data frame com tweets que citam Bolsonaro."
      ],
      "metadata": {
        "id": "AhzpD_-0hWOi"
      }
    },
    {
      "cell_type": "code",
      "source": [
        "lista_Bolsonaro = []\n",
        "data_inicial_Bolsonaro = '2022-06-13'\n",
        "data_final_Bolsonaro = datetime.date.today()\n",
        "for i, tweet in enumerate(tw.TwitterSearchScraper(f'{\"Bolsonaro\"} + since:{data_inicial} until:{data_final}').get_items()):\n",
        "   if i > 1000:\n",
        "     break\n",
        "   lista_Bolsonaro.append([tweet.date, tweet.id, tweet.content, tweet.username])"
      ],
      "metadata": {
        "id": "vbAyD8oEgjOJ"
      },
      "execution_count": null,
      "outputs": []
    },
    {
      "cell_type": "code",
      "source": [
        "lista_Lula = []\n",
        "data_inicial_Lula = '2022-06-13'\n",
        "data_final_Lula = datetime.date.today()\n",
        "for i, tweet in enumerate(tw.TwitterSearchScraper(f'{\"Lula\"} + since:{data_inicial_Lula} until:{data_final_Lula}').get_items()):\n",
        "   if i > 1000:\n",
        "     break\n",
        "   lista_Lula.append([tweet.date, tweet.id, tweet.content, tweet.username])"
      ],
      "metadata": {
        "id": "uB233azRh1NN"
      },
      "execution_count": null,
      "outputs": []
    },
    {
      "cell_type": "markdown",
      "source": [
        "Vamos transformar as listas em data frame"
      ],
      "metadata": {
        "id": "yGqGWwpHipPG"
      }
    },
    {
      "cell_type": "code",
      "source": [
        "dataFrameBolsonaro = pd.DataFrame(lista_Bolsonaro, columns=[\"Data\", \"Id do tweet\", \"Texto\", \"Usuario\"])\n",
        "dataFrameLula = pd.DataFrame(lista_Lula, columns=[\"Data\", \"Id do tweet\", \"Texto\", \"Usuario\"])\n"
      ],
      "metadata": {
        "id": "azLI6ng_ir8I"
      },
      "execution_count": null,
      "outputs": []
    },
    {
      "cell_type": "code",
      "source": [
        "dataFrameBolsonaro.head()"
      ],
      "metadata": {
        "colab": {
          "base_uri": "https://localhost:8080/",
          "height": 337
        },
        "id": "y1GjpiYZi4iv",
        "outputId": "a61cbe2d-e292-46f9-a243-719ca0f7e30a"
      },
      "execution_count": null,
      "outputs": [
        {
          "output_type": "execute_result",
          "data": {
            "text/plain": [
              "                       Data          Id do tweet  \\\n",
              "0 2022-06-13 23:59:59+00:00  1536498649387225089   \n",
              "1 2022-06-13 23:59:58+00:00  1536498647042514948   \n",
              "2 2022-06-13 23:59:58+00:00  1536498646333661185   \n",
              "3 2022-06-13 23:59:57+00:00  1536498643246751744   \n",
              "4 2022-06-13 23:59:57+00:00  1536498639937347590   \n",
              "\n",
              "                                               Texto          Usuario  \n",
              "0  @sensacionalista Não podemos ficar calados for...   AlosioCardoso2  \n",
              "1  @catafoiawins @jairbolsonaro Foi responsável p...  Winston64196430  \n",
              "2  Joe Biden deve ao presidente @jairbolsonaro , ...       CunhaRosa1  \n",
              "3  Bolsonaro e Guedes estão afundando o Brasil! h...    guimaraes13PT  \n",
              "4  @Tio_Dan_Dan @vasilva1971 @ASeylar @Namaste_Ca...  NielsendoBrasil  "
            ],
            "text/html": [
              "\n",
              "  <div id=\"df-71e47610-9d9b-4073-88f0-1c9d74129682\">\n",
              "    <div class=\"colab-df-container\">\n",
              "      <div>\n",
              "<style scoped>\n",
              "    .dataframe tbody tr th:only-of-type {\n",
              "        vertical-align: middle;\n",
              "    }\n",
              "\n",
              "    .dataframe tbody tr th {\n",
              "        vertical-align: top;\n",
              "    }\n",
              "\n",
              "    .dataframe thead th {\n",
              "        text-align: right;\n",
              "    }\n",
              "</style>\n",
              "<table border=\"1\" class=\"dataframe\">\n",
              "  <thead>\n",
              "    <tr style=\"text-align: right;\">\n",
              "      <th></th>\n",
              "      <th>Data</th>\n",
              "      <th>Id do tweet</th>\n",
              "      <th>Texto</th>\n",
              "      <th>Usuario</th>\n",
              "    </tr>\n",
              "  </thead>\n",
              "  <tbody>\n",
              "    <tr>\n",
              "      <th>0</th>\n",
              "      <td>2022-06-13 23:59:59+00:00</td>\n",
              "      <td>1536498649387225089</td>\n",
              "      <td>@sensacionalista Não podemos ficar calados for...</td>\n",
              "      <td>AlosioCardoso2</td>\n",
              "    </tr>\n",
              "    <tr>\n",
              "      <th>1</th>\n",
              "      <td>2022-06-13 23:59:58+00:00</td>\n",
              "      <td>1536498647042514948</td>\n",
              "      <td>@catafoiawins @jairbolsonaro Foi responsável p...</td>\n",
              "      <td>Winston64196430</td>\n",
              "    </tr>\n",
              "    <tr>\n",
              "      <th>2</th>\n",
              "      <td>2022-06-13 23:59:58+00:00</td>\n",
              "      <td>1536498646333661185</td>\n",
              "      <td>Joe Biden deve ao presidente @jairbolsonaro , ...</td>\n",
              "      <td>CunhaRosa1</td>\n",
              "    </tr>\n",
              "    <tr>\n",
              "      <th>3</th>\n",
              "      <td>2022-06-13 23:59:57+00:00</td>\n",
              "      <td>1536498643246751744</td>\n",
              "      <td>Bolsonaro e Guedes estão afundando o Brasil! h...</td>\n",
              "      <td>guimaraes13PT</td>\n",
              "    </tr>\n",
              "    <tr>\n",
              "      <th>4</th>\n",
              "      <td>2022-06-13 23:59:57+00:00</td>\n",
              "      <td>1536498639937347590</td>\n",
              "      <td>@Tio_Dan_Dan @vasilva1971 @ASeylar @Namaste_Ca...</td>\n",
              "      <td>NielsendoBrasil</td>\n",
              "    </tr>\n",
              "  </tbody>\n",
              "</table>\n",
              "</div>\n",
              "      <button class=\"colab-df-convert\" onclick=\"convertToInteractive('df-71e47610-9d9b-4073-88f0-1c9d74129682')\"\n",
              "              title=\"Convert this dataframe to an interactive table.\"\n",
              "              style=\"display:none;\">\n",
              "        \n",
              "  <svg xmlns=\"http://www.w3.org/2000/svg\" height=\"24px\"viewBox=\"0 0 24 24\"\n",
              "       width=\"24px\">\n",
              "    <path d=\"M0 0h24v24H0V0z\" fill=\"none\"/>\n",
              "    <path d=\"M18.56 5.44l.94 2.06.94-2.06 2.06-.94-2.06-.94-.94-2.06-.94 2.06-2.06.94zm-11 1L8.5 8.5l.94-2.06 2.06-.94-2.06-.94L8.5 2.5l-.94 2.06-2.06.94zm10 10l.94 2.06.94-2.06 2.06-.94-2.06-.94-.94-2.06-.94 2.06-2.06.94z\"/><path d=\"M17.41 7.96l-1.37-1.37c-.4-.4-.92-.59-1.43-.59-.52 0-1.04.2-1.43.59L10.3 9.45l-7.72 7.72c-.78.78-.78 2.05 0 2.83L4 21.41c.39.39.9.59 1.41.59.51 0 1.02-.2 1.41-.59l7.78-7.78 2.81-2.81c.8-.78.8-2.07 0-2.86zM5.41 20L4 18.59l7.72-7.72 1.47 1.35L5.41 20z\"/>\n",
              "  </svg>\n",
              "      </button>\n",
              "      \n",
              "  <style>\n",
              "    .colab-df-container {\n",
              "      display:flex;\n",
              "      flex-wrap:wrap;\n",
              "      gap: 12px;\n",
              "    }\n",
              "\n",
              "    .colab-df-convert {\n",
              "      background-color: #E8F0FE;\n",
              "      border: none;\n",
              "      border-radius: 50%;\n",
              "      cursor: pointer;\n",
              "      display: none;\n",
              "      fill: #1967D2;\n",
              "      height: 32px;\n",
              "      padding: 0 0 0 0;\n",
              "      width: 32px;\n",
              "    }\n",
              "\n",
              "    .colab-df-convert:hover {\n",
              "      background-color: #E2EBFA;\n",
              "      box-shadow: 0px 1px 2px rgba(60, 64, 67, 0.3), 0px 1px 3px 1px rgba(60, 64, 67, 0.15);\n",
              "      fill: #174EA6;\n",
              "    }\n",
              "\n",
              "    [theme=dark] .colab-df-convert {\n",
              "      background-color: #3B4455;\n",
              "      fill: #D2E3FC;\n",
              "    }\n",
              "\n",
              "    [theme=dark] .colab-df-convert:hover {\n",
              "      background-color: #434B5C;\n",
              "      box-shadow: 0px 1px 3px 1px rgba(0, 0, 0, 0.15);\n",
              "      filter: drop-shadow(0px 1px 2px rgba(0, 0, 0, 0.3));\n",
              "      fill: #FFFFFF;\n",
              "    }\n",
              "  </style>\n",
              "\n",
              "      <script>\n",
              "        const buttonEl =\n",
              "          document.querySelector('#df-71e47610-9d9b-4073-88f0-1c9d74129682 button.colab-df-convert');\n",
              "        buttonEl.style.display =\n",
              "          google.colab.kernel.accessAllowed ? 'block' : 'none';\n",
              "\n",
              "        async function convertToInteractive(key) {\n",
              "          const element = document.querySelector('#df-71e47610-9d9b-4073-88f0-1c9d74129682');\n",
              "          const dataTable =\n",
              "            await google.colab.kernel.invokeFunction('convertToInteractive',\n",
              "                                                     [key], {});\n",
              "          if (!dataTable) return;\n",
              "\n",
              "          const docLinkHtml = 'Like what you see? Visit the ' +\n",
              "            '<a target=\"_blank\" href=https://colab.research.google.com/notebooks/data_table.ipynb>data table notebook</a>'\n",
              "            + ' to learn more about interactive tables.';\n",
              "          element.innerHTML = '';\n",
              "          dataTable['output_type'] = 'display_data';\n",
              "          await google.colab.output.renderOutput(dataTable, element);\n",
              "          const docLink = document.createElement('div');\n",
              "          docLink.innerHTML = docLinkHtml;\n",
              "          element.appendChild(docLink);\n",
              "        }\n",
              "      </script>\n",
              "    </div>\n",
              "  </div>\n",
              "  "
            ]
          },
          "metadata": {},
          "execution_count": 33
        }
      ]
    },
    {
      "cell_type": "code",
      "source": [
        "dataFrameLula.head()"
      ],
      "metadata": {
        "colab": {
          "base_uri": "https://localhost:8080/",
          "height": 337
        },
        "id": "wazrXQPxi9u4",
        "outputId": "e727b609-0371-455e-a479-bc19923aab60"
      },
      "execution_count": null,
      "outputs": [
        {
          "output_type": "execute_result",
          "data": {
            "text/plain": [
              "                       Data          Id do tweet  \\\n",
              "0 2022-06-13 23:59:59+00:00  1536498649601036290   \n",
              "1 2022-06-13 23:59:58+00:00  1536498644232306693   \n",
              "2 2022-06-13 23:59:58+00:00  1536498643972374528   \n",
              "3 2022-06-13 23:59:57+00:00  1536498639660584962   \n",
              "4 2022-06-13 23:59:56+00:00  1536498638171537408   \n",
              "\n",
              "                                               Texto          Usuario  \n",
              "0     @LulaOficial Lula 13 nosso presidente em 2023.         JoaoJcbv  \n",
              "1                   @JssicamayBrasil @LulaOficial 😅✨   egydio_zanetti  \n",
              "2  O @lulaoficial vai mudar isso aí. SQN. https:/...  reginaldo170882  \n",
              "3  @Ana87453694Ana @rafael2frediani @monySCBRASIL...   victoralexis87  \n",
              "4  @senadorhumberto @LulaOficial Drácula, Drácula...         LenaRial  "
            ],
            "text/html": [
              "\n",
              "  <div id=\"df-2b08a76f-60da-4a29-b6ba-47b816e306f5\">\n",
              "    <div class=\"colab-df-container\">\n",
              "      <div>\n",
              "<style scoped>\n",
              "    .dataframe tbody tr th:only-of-type {\n",
              "        vertical-align: middle;\n",
              "    }\n",
              "\n",
              "    .dataframe tbody tr th {\n",
              "        vertical-align: top;\n",
              "    }\n",
              "\n",
              "    .dataframe thead th {\n",
              "        text-align: right;\n",
              "    }\n",
              "</style>\n",
              "<table border=\"1\" class=\"dataframe\">\n",
              "  <thead>\n",
              "    <tr style=\"text-align: right;\">\n",
              "      <th></th>\n",
              "      <th>Data</th>\n",
              "      <th>Id do tweet</th>\n",
              "      <th>Texto</th>\n",
              "      <th>Usuario</th>\n",
              "    </tr>\n",
              "  </thead>\n",
              "  <tbody>\n",
              "    <tr>\n",
              "      <th>0</th>\n",
              "      <td>2022-06-13 23:59:59+00:00</td>\n",
              "      <td>1536498649601036290</td>\n",
              "      <td>@LulaOficial Lula 13 nosso presidente em 2023.</td>\n",
              "      <td>JoaoJcbv</td>\n",
              "    </tr>\n",
              "    <tr>\n",
              "      <th>1</th>\n",
              "      <td>2022-06-13 23:59:58+00:00</td>\n",
              "      <td>1536498644232306693</td>\n",
              "      <td>@JssicamayBrasil @LulaOficial 😅✨</td>\n",
              "      <td>egydio_zanetti</td>\n",
              "    </tr>\n",
              "    <tr>\n",
              "      <th>2</th>\n",
              "      <td>2022-06-13 23:59:58+00:00</td>\n",
              "      <td>1536498643972374528</td>\n",
              "      <td>O @lulaoficial vai mudar isso aí. SQN. https:/...</td>\n",
              "      <td>reginaldo170882</td>\n",
              "    </tr>\n",
              "    <tr>\n",
              "      <th>3</th>\n",
              "      <td>2022-06-13 23:59:57+00:00</td>\n",
              "      <td>1536498639660584962</td>\n",
              "      <td>@Ana87453694Ana @rafael2frediani @monySCBRASIL...</td>\n",
              "      <td>victoralexis87</td>\n",
              "    </tr>\n",
              "    <tr>\n",
              "      <th>4</th>\n",
              "      <td>2022-06-13 23:59:56+00:00</td>\n",
              "      <td>1536498638171537408</td>\n",
              "      <td>@senadorhumberto @LulaOficial Drácula, Drácula...</td>\n",
              "      <td>LenaRial</td>\n",
              "    </tr>\n",
              "  </tbody>\n",
              "</table>\n",
              "</div>\n",
              "      <button class=\"colab-df-convert\" onclick=\"convertToInteractive('df-2b08a76f-60da-4a29-b6ba-47b816e306f5')\"\n",
              "              title=\"Convert this dataframe to an interactive table.\"\n",
              "              style=\"display:none;\">\n",
              "        \n",
              "  <svg xmlns=\"http://www.w3.org/2000/svg\" height=\"24px\"viewBox=\"0 0 24 24\"\n",
              "       width=\"24px\">\n",
              "    <path d=\"M0 0h24v24H0V0z\" fill=\"none\"/>\n",
              "    <path d=\"M18.56 5.44l.94 2.06.94-2.06 2.06-.94-2.06-.94-.94-2.06-.94 2.06-2.06.94zm-11 1L8.5 8.5l.94-2.06 2.06-.94-2.06-.94L8.5 2.5l-.94 2.06-2.06.94zm10 10l.94 2.06.94-2.06 2.06-.94-2.06-.94-.94-2.06-.94 2.06-2.06.94z\"/><path d=\"M17.41 7.96l-1.37-1.37c-.4-.4-.92-.59-1.43-.59-.52 0-1.04.2-1.43.59L10.3 9.45l-7.72 7.72c-.78.78-.78 2.05 0 2.83L4 21.41c.39.39.9.59 1.41.59.51 0 1.02-.2 1.41-.59l7.78-7.78 2.81-2.81c.8-.78.8-2.07 0-2.86zM5.41 20L4 18.59l7.72-7.72 1.47 1.35L5.41 20z\"/>\n",
              "  </svg>\n",
              "      </button>\n",
              "      \n",
              "  <style>\n",
              "    .colab-df-container {\n",
              "      display:flex;\n",
              "      flex-wrap:wrap;\n",
              "      gap: 12px;\n",
              "    }\n",
              "\n",
              "    .colab-df-convert {\n",
              "      background-color: #E8F0FE;\n",
              "      border: none;\n",
              "      border-radius: 50%;\n",
              "      cursor: pointer;\n",
              "      display: none;\n",
              "      fill: #1967D2;\n",
              "      height: 32px;\n",
              "      padding: 0 0 0 0;\n",
              "      width: 32px;\n",
              "    }\n",
              "\n",
              "    .colab-df-convert:hover {\n",
              "      background-color: #E2EBFA;\n",
              "      box-shadow: 0px 1px 2px rgba(60, 64, 67, 0.3), 0px 1px 3px 1px rgba(60, 64, 67, 0.15);\n",
              "      fill: #174EA6;\n",
              "    }\n",
              "\n",
              "    [theme=dark] .colab-df-convert {\n",
              "      background-color: #3B4455;\n",
              "      fill: #D2E3FC;\n",
              "    }\n",
              "\n",
              "    [theme=dark] .colab-df-convert:hover {\n",
              "      background-color: #434B5C;\n",
              "      box-shadow: 0px 1px 3px 1px rgba(0, 0, 0, 0.15);\n",
              "      filter: drop-shadow(0px 1px 2px rgba(0, 0, 0, 0.3));\n",
              "      fill: #FFFFFF;\n",
              "    }\n",
              "  </style>\n",
              "\n",
              "      <script>\n",
              "        const buttonEl =\n",
              "          document.querySelector('#df-2b08a76f-60da-4a29-b6ba-47b816e306f5 button.colab-df-convert');\n",
              "        buttonEl.style.display =\n",
              "          google.colab.kernel.accessAllowed ? 'block' : 'none';\n",
              "\n",
              "        async function convertToInteractive(key) {\n",
              "          const element = document.querySelector('#df-2b08a76f-60da-4a29-b6ba-47b816e306f5');\n",
              "          const dataTable =\n",
              "            await google.colab.kernel.invokeFunction('convertToInteractive',\n",
              "                                                     [key], {});\n",
              "          if (!dataTable) return;\n",
              "\n",
              "          const docLinkHtml = 'Like what you see? Visit the ' +\n",
              "            '<a target=\"_blank\" href=https://colab.research.google.com/notebooks/data_table.ipynb>data table notebook</a>'\n",
              "            + ' to learn more about interactive tables.';\n",
              "          element.innerHTML = '';\n",
              "          dataTable['output_type'] = 'display_data';\n",
              "          await google.colab.output.renderOutput(dataTable, element);\n",
              "          const docLink = document.createElement('div');\n",
              "          docLink.innerHTML = docLinkHtml;\n",
              "          element.appendChild(docLink);\n",
              "        }\n",
              "      </script>\n",
              "    </div>\n",
              "  </div>\n",
              "  "
            ]
          },
          "metadata": {},
          "execution_count": 34
        }
      ]
    }
  ]
}