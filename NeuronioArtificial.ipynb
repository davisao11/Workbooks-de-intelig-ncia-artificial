{
  "nbformat": 4,
  "nbformat_minor": 0,
  "metadata": {
    "colab": {
      "name": "NeuronioArtificial.ipynb",
      "provenance": []
    },
    "kernelspec": {
      "name": "python3",
      "display_name": "Python 3"
    },
    "language_info": {
      "name": "python"
    }
  },
  "cells": [
    {
      "cell_type": "markdown",
      "source": [
        "Passo 1 - Definir uma variável que irá armazenar o tamanho da amostra que será utilizada no treinamento."
      ],
      "metadata": {
        "id": "3EYPRYjoFxpN"
      }
    },
    {
      "cell_type": "code",
      "source": [
        "tamAmostra = 6\n",
        "print(\"Tamanho da amostra:\", tamAmostra)"
      ],
      "metadata": {
        "colab": {
          "base_uri": "https://localhost:8080/"
        },
        "id": "L_wEsJqWF4_N",
        "outputId": "7d22647f-2d5d-40b8-d224-a45adbc0ce03"
      },
      "execution_count": null,
      "outputs": [
        {
          "output_type": "stream",
          "name": "stdout",
          "text": [
            "Tamanho da amostra: 6\n"
          ]
        }
      ]
    },
    {
      "cell_type": "markdown",
      "source": [
        "Passo 2 - Vamos criar variáveis no Python para armazenar os valores de cada uma das frutas da amostra. Para isso, vamos utilizar a biblioteca NumPy, que TOP para trabalhar com cálculos matemáticos complexos. A NumPy é muito eficiente para realizar cálculos que envolvem matrizes."
      ],
      "metadata": {
        "id": "wujcZLIyGJHO"
      }
    },
    {
      "cell_type": "code",
      "source": [
        "import numpy as np\n",
        "peso = np.array([113, 122, 107, 98, 115, 120])\n",
        "print(\"Pesos:\", peso)\n",
        "pH = np.array([6.8,4.7,5.2,3.6,2.9,4.2])\n",
        "print(\"pH:\", pH)\n",
        "y = np.array([-1,1,-1,-1,1,1]) #-1=maçã; 1=laranja\n",
        "print(\"Frutas:\", y)"
      ],
      "metadata": {
        "colab": {
          "base_uri": "https://localhost:8080/"
        },
        "id": "Xsz982CiGl-2",
        "outputId": "e5ef9806-2dc8-4d31-922f-5a4d99885d35"
      },
      "execution_count": null,
      "outputs": [
        {
          "output_type": "stream",
          "name": "stdout",
          "text": [
            "Pesos: [113 122 107  98 115 120]\n",
            "pH: [6.8 4.7 5.2 3.6 2.9 4.2]\n",
            "Frutas: [-1  1 -1 -1  1  1]\n"
          ]
        }
      ]
    },
    {
      "cell_type": "markdown",
      "source": [
        "Passo 3 - uma vez que os arrays com os valores relacionados às frutas foram criados, temos que separar as variáveis INDEPENDENTES (X) da variável DEPENDENTE (y).\n",
        "No nosso caso, o peso e o pH são as variáveis INDEPENDENTES."
      ],
      "metadata": {
        "id": "lSFMR0Wkj_8N"
      }
    },
    {
      "cell_type": "code",
      "source": [
        "X = np.vstack((peso, pH))\n",
        "X"
      ],
      "metadata": {
        "colab": {
          "base_uri": "https://localhost:8080/"
        },
        "id": "E9zyseubkRVx",
        "outputId": "ab5e656f-8a8f-4fc9-c8c9-224beb4aee64"
      },
      "execution_count": null,
      "outputs": [
        {
          "output_type": "execute_result",
          "data": {
            "text/plain": [
              "array([[113. , 122. , 107. ,  98. , 115. , 120. ],\n",
              "       [  6.8,   4.7,   5.2,   3.6,   2.9,   4.2]])"
            ]
          },
          "metadata": {},
          "execution_count": 3
        }
      ]
    },
    {
      "cell_type": "markdown",
      "source": [
        "Passo 4: uma vez que separamos as variávies INDEPENDENTES da DEPENDENTE, vamos criar uma variável para armazenar o valor do Bias."
      ],
      "metadata": {
        "id": "fNYWXSKiksog"
      }
    },
    {
      "cell_type": "code",
      "source": [
        "bias = -1\n",
        "print(bias)"
      ],
      "metadata": {
        "colab": {
          "base_uri": "https://localhost:8080/"
        },
        "id": "QIY4v0ohk4aP",
        "outputId": "41ce6bfa-1e87-4738-cb5a-a12cc882a2c1"
      },
      "execution_count": null,
      "outputs": [
        {
          "output_type": "stream",
          "name": "stdout",
          "text": [
            "-1\n"
          ]
        }
      ]
    },
    {
      "cell_type": "markdown",
      "source": [
        "Passo 5: vimos que a fórmula que recalcula os valores dos pesos possui a taxa de aprendizado. Vimos também que essa taxa deve ter o valor entre 0 e 1."
      ],
      "metadata": {
        "id": "JnRC3loulDLX"
      }
    },
    {
      "cell_type": "code",
      "source": [
        "txAprendizado = 0.1\n",
        "print(\"Taxa de aprendizado:\", txAprendizado)"
      ],
      "metadata": {
        "colab": {
          "base_uri": "https://localhost:8080/"
        },
        "id": "o9tVdgihlRGn",
        "outputId": "fdcdca14-33bc-4c89-b824-7948a9ae9c79"
      },
      "execution_count": null,
      "outputs": [
        {
          "output_type": "stream",
          "name": "stdout",
          "text": [
            "Taxa de aprendizado: 0.1\n"
          ]
        }
      ]
    },
    {
      "cell_type": "markdown",
      "source": [
        "Passo 6: Já definimos os valores das entradas (X), do bias e da taxa de aprendizados. Agora, vamos definir os valores iniciais dos pesos."
      ],
      "metadata": {
        "id": "oML5teVRlbQZ"
      }
    },
    {
      "cell_type": "code",
      "source": [
        "w = np.zeros([3])\n",
        "print(\"Pesos:\", w)"
      ],
      "metadata": {
        "colab": {
          "base_uri": "https://localhost:8080/"
        },
        "id": "iiII2gRzlkWP",
        "outputId": "af3193a4-cabc-461f-cb7f-6393dcb6b597"
      },
      "execution_count": null,
      "outputs": [
        {
          "output_type": "stream",
          "name": "stdout",
          "text": [
            "Pesos: [0. 0. 0.]\n"
          ]
        }
      ]
    },
    {
      "cell_type": "markdown",
      "source": [
        "Passo 7: uma vez que todas as variáveis foram estruturadas, vamos criar um array para armazenar os erros encontrados durante o treinamento."
      ],
      "metadata": {
        "id": "I2yJBpvqlbPX"
      }
    },
    {
      "cell_type": "code",
      "source": [
        "erros = np.zeros([6])\n",
        "print(\"Lista que armazenará os erros:\", erros)"
      ],
      "metadata": {
        "colab": {
          "base_uri": "https://localhost:8080/"
        },
        "id": "Mv5PHf-_mCdX",
        "outputId": "717b9854-d640-4fd5-bd36-9523392c145b"
      },
      "execution_count": null,
      "outputs": [
        {
          "output_type": "stream",
          "name": "stdout",
          "text": [
            "Lista que armazenará os erros: [0. 0. 0. 0. 0. 0.]\n"
          ]
        }
      ]
    },
    {
      "cell_type": "markdown",
      "source": [
        "Passo 8: agora que estruturamos todos os dados necessários para o percpetron, vamos definir a função de ativação. Neste caso, vamos utilizar a função degrau, pois precisamos de uma função capaz de retornar dois valores distintos. No nosso caso, se retornar -1 = maçã; se retornar 1 = laranja."
      ],
      "metadata": {
        "id": "w5PUhvLBnh5B"
      }
    },
    {
      "cell_type": "code",
      "source": [
        "def funcaoAtivacao(u):\n",
        "  if u <0.0:\n",
        "    return(-1) #maçã\n",
        "  else:\n",
        "    return(1) #laranja"
      ],
      "metadata": {
        "id": "X5wkGs40n15c"
      },
      "execution_count": null,
      "outputs": []
    },
    {
      "cell_type": "markdown",
      "source": [
        "Vamos ver como funciona a função de ativação."
      ],
      "metadata": {
        "id": "qThenw9KoxJw"
      }
    },
    {
      "cell_type": "code",
      "source": [
        "uTeste = 1000\n",
        "funcaoAtivacao(uTeste)"
      ],
      "metadata": {
        "colab": {
          "base_uri": "https://localhost:8080/"
        },
        "id": "FBwTl_jDo2I4",
        "outputId": "be65f431-d08d-4c00-e5d2-978675ee316e"
      },
      "execution_count": null,
      "outputs": [
        {
          "output_type": "execute_result",
          "data": {
            "text/plain": [
              "1"
            ]
          },
          "metadata": {},
          "execution_count": 12
        }
      ]
    },
    {
      "cell_type": "markdown",
      "source": [
        "Passo final: tudo que definimos acima será utilizado para o treinamento do neurônio. O treinamento tem como objetivo calcular os valores dos pesos (w)."
      ],
      "metadata": {
        "id": "_j39pCWspWoz"
      }
    },
    {
      "cell_type": "code",
      "source": [
        "numEpocas = 60000\n",
        "for i in range(numEpocas):\n",
        "  for j in range(tamAmostra):\n",
        "    #1 - vamos criar um array Xb que empilhará o valor do Bias com os valores de X\n",
        "    Xb = np.hstack((bias,X[:,j]))\n",
        "    #print(Xb)\n",
        "    #2 - vamos calcular o valor de u para cada fruta\n",
        "    u = Xb[0]*w[0] + Xb[1]*w[1] + Xb[2]*w[2]\n",
        "    #print (u)\n",
        "    #3 - vamos pedir para o neurônio mostrar a fruta proposta a partir da função de ativação\n",
        "    Yr = funcaoAtivacao(u)\n",
        "    #print(\"Valor da fruta proposta pelo neurônio:\", Yr)\n",
        "    #4 - vamos pedir para o algorimo armazenar o erro\n",
        "    erros[j] = y[j] - Yr\n",
        "    #print(\"Erro:\", erros[j])\n",
        "    if(erros[j] !=0.0):\n",
        "      w = w + txAprendizado*erros[j]*Xb\n",
        "  print(\"Ao final da espoca\", i, \" os erros foram:\", str(erros), \" e os pesos\", str(w))\n",
        "  if (erros[0]==0 and erros[1]==0 and erros[2]==0 and erros[3]==0 and erros[4]==0 and erros[5]==0):\n",
        "    break"
      ],
      "metadata": {
        "colab": {
          "base_uri": "https://localhost:8080/"
        },
        "id": "axzoKPcmpffU",
        "outputId": "d305725c-b4ca-477c-ff52-dabd22150cee"
      },
      "execution_count": null,
      "outputs": [
        {
          "output_type": "stream",
          "name": "stdout",
          "text": [
            "Ao final da espoca 0  os erros foram: [0. 0. 0. 0. 0. 0.]  e os pesos [ 2417.6          116.6        -2502.71999999]\n"
          ]
        }
      ]
    }
  ]
}