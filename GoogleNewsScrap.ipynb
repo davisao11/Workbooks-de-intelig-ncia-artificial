{
  "nbformat": 4,
  "nbformat_minor": 0,
  "metadata": {
    "colab": {
      "name": "GoogleNewsScrap.ipynb",
      "provenance": []
    },
    "kernelspec": {
      "name": "python3",
      "display_name": "Python 3"
    },
    "language_info": {
      "name": "python"
    }
  },
  "cells": [
    {
      "cell_type": "code",
      "execution_count": null,
      "metadata": {
        "colab": {
          "base_uri": "https://localhost:8080/"
        },
        "id": "v-cQEDzdLycN",
        "outputId": "5709a64d-2138-448d-a066-7d2f19181fe1"
      },
      "outputs": [
        {
          "output_type": "stream",
          "name": "stdout",
          "text": [
            "Looking in indexes: https://pypi.org/simple, https://us-python.pkg.dev/colab-wheels/public/simple/\n",
            "Requirement already satisfied: GoogleNews in /usr/local/lib/python3.7/dist-packages (1.6.3)\n",
            "Requirement already satisfied: beautifulsoup4 in /usr/local/lib/python3.7/dist-packages (from GoogleNews) (4.6.3)\n",
            "Requirement already satisfied: dateparser in /usr/local/lib/python3.7/dist-packages (from GoogleNews) (1.1.1)\n",
            "Requirement already satisfied: python-dateutil in /usr/local/lib/python3.7/dist-packages (from GoogleNews) (2.8.2)\n",
            "Requirement already satisfied: regex!=2019.02.19,!=2021.8.27,<2022.3.15 in /usr/local/lib/python3.7/dist-packages (from dateparser->GoogleNews) (2022.3.2)\n",
            "Requirement already satisfied: pytz in /usr/local/lib/python3.7/dist-packages (from dateparser->GoogleNews) (2022.1)\n",
            "Requirement already satisfied: tzlocal in /usr/local/lib/python3.7/dist-packages (from dateparser->GoogleNews) (1.5.1)\n",
            "Requirement already satisfied: six>=1.5 in /usr/local/lib/python3.7/dist-packages (from python-dateutil->GoogleNews) (1.15.0)\n"
          ]
        }
      ],
      "source": [
        "!pip3 install GoogleNews"
      ]
    },
    {
      "cell_type": "markdown",
      "source": [
        "Passo 1: importar as bibliotecas que serão utilizadas para o scrapping."
      ],
      "metadata": {
        "id": "ysgUOT_2MGke"
      }
    },
    {
      "cell_type": "code",
      "source": [
        "from GoogleNews import GoogleNews\n",
        "import pandas as pd"
      ],
      "metadata": {
        "id": "2jvqVPnVMQO0"
      },
      "execution_count": null,
      "outputs": []
    },
    {
      "cell_type": "markdown",
      "source": [
        "Passo 2: vamos fazer as configurações iniciais do GoogleNews."
      ],
      "metadata": {
        "id": "lZhYCZIsMjy7"
      }
    },
    {
      "cell_type": "code",
      "source": [
        "googleNews = GoogleNews()\n",
        "googleNews.set_lang('pt')\n",
        "googleNews.set_period('2d')"
      ],
      "metadata": {
        "id": "vA7uF3uSTmPQ"
      },
      "execution_count": null,
      "outputs": []
    },
    {
      "cell_type": "markdown",
      "source": [
        "Passo 3: vamos pedir para o objeto google news pesquisar notícias que contemplem determinada palavra."
      ],
      "metadata": {
        "id": "j_TvyLkcUQjX"
      }
    },
    {
      "cell_type": "code",
      "source": [
        "googleNews.search(\"Naruto\")"
      ],
      "metadata": {
        "id": "ev7z3esRUW1P"
      },
      "execution_count": null,
      "outputs": []
    },
    {
      "cell_type": "markdown",
      "source": [
        "Passo 4: vamos verificar quantas notícias com a palavra Naruto foram publicadas nos últimos dois dias."
      ],
      "metadata": {
        "id": "9DTb3SISUhq2"
      }
    },
    {
      "cell_type": "code",
      "source": [
        "googleNews.total_count()"
      ],
      "metadata": {
        "colab": {
          "base_uri": "https://localhost:8080/"
        },
        "id": "6--NaDQbUnc3",
        "outputId": "551bf601-6a8e-4fcc-d46c-4f36eb24647d"
      },
      "execution_count": null,
      "outputs": [
        {
          "output_type": "execute_result",
          "data": {
            "text/plain": [
              "98"
            ]
          },
          "metadata": {},
          "execution_count": 36
        }
      ]
    },
    {
      "cell_type": "markdown",
      "source": [
        "Passo 5: recuperar os dados de todas as notícias que contemplam a palavra \"Naruto\""
      ],
      "metadata": {
        "id": "qG8OmYkDX_BH"
      }
    },
    {
      "cell_type": "code",
      "source": [
        "googleNews.get_news(\"Naruto\")"
      ],
      "metadata": {
        "id": "4NEl7ovSYGSA"
      },
      "execution_count": null,
      "outputs": []
    },
    {
      "cell_type": "markdown",
      "source": [
        "Passo 6: vamos criar uma variável que armazenará todas as notícias relacionadas à palavra-chave pesquisada."
      ],
      "metadata": {
        "id": "TsiViW8sVGyW"
      }
    },
    {
      "cell_type": "code",
      "source": [
        "pesquisa_naruto = googleNews.results()\n",
        "pesquisa_naruto"
      ],
      "metadata": {
        "colab": {
          "base_uri": "https://localhost:8080/"
        },
        "id": "rH2gp5mVVO3X",
        "outputId": "b17cd5a0-1574-45f3-9507-bcd2793312f6"
      },
      "execution_count": null,
      "outputs": [
        {
          "output_type": "execute_result",
          "data": {
            "text/plain": [
              "[{'date': '5 horas atrás',\n",
              "  'datetime': None,\n",
              "  'desc': 'bookmark_border',\n",
              "  'img': 'https://lh3.googleusercontent.com/proxy/khbzxXf7S7t_yt1xFZjQSNka9YtrK9net2NG6ke9_x8nTvjH71CyufGD0btiRRmRi3r67W4LrCxi6SiRsvPuXOpY7yeEN7WveskbX5e_gHOgTZ4A5qrBKMIUvKirFCmLNw8KwnjtnMKz3xNT361o6lMRdz8V0O3j30Qj0zDNfZiPqZPJTgvEjkD3QeLiUBA=s0-w100-h100-dcBQKGrREK',\n",
              "  'link': 'news.google.com/./articles/CBMiRmh0dHBzOi8vd3d3LmxlZ2lhb2Rvc2hlcm9pcy5jb20uYnIvcXVpei9uYXJ1dG8tanV0c3UtdmlzdWFsLWFuaW1lLmh0bWzSAQA?hl=pt-BR&gl=BR&ceid=BR%3Apt-419',\n",
              "  'media': None,\n",
              "  'site': 'Legião dos Heróis',\n",
              "  'title': '[Quiz] Naruto: Qual seria seu jutsu visual no anime?'},\n",
              " {'date': '5 horas atrás',\n",
              "  'datetime': None,\n",
              "  'desc': 'bookmark_border',\n",
              "  'img': 'https://lh3.googleusercontent.com/proxy/YQrh-x4YqM-GBFl1AzwzvRnsjx1s0x5XbPxT2aYTNODwlayVits5YTJUYSbEWM8VoYTBmhlCjNjaFeycAlyGACl8ipS_HhrBfeffTPsbCljj1hxkJC_HqYT7maztkNZ3eAh86vc3=s0-w100-h100-dcnQSMrpEH',\n",
              "  'link': 'news.google.com/./articles/CAIiEI_ktTPiuKsBa0IB4HtuxC0qGAgEKg8IACoHCAow3-PBAjCN8yEwpq3iBg?uo=CAUiWGh0dHBzOi8vY3JpdGljYWxoaXRzLmNvbS5ici9hbmltZS9lbnRlbmRhLXBvci1xdWUtc2FzdWtlLW5hby11c2Etby1tb2RvLXNhYmlvLWVtLW5hcnV0by_SAQA&hl=pt-BR&gl=BR&ceid=BR%3Apt-419',\n",
              "  'media': None,\n",
              "  'site': 'Critical Hits',\n",
              "  'title': 'Entenda por que Sasuke não usa o modo sábio em Naruto'},\n",
              " {'date': '10 horas atrás',\n",
              "  'datetime': None,\n",
              "  'desc': 'bookmark_border',\n",
              "  'img': 'https://lh3.googleusercontent.com/proxy/pYB0QkbimM9C7woJpCsjugP2_K9p8CysDz92pRfBGFHHAJUZgWs9J4wXGcU4TOdA0OKjlRPhyaPC6HQeK1ST_e0g8bYzp-RnzMfj812kfnm1CAw2OU7j_W8qvvLeMBHgIxbHO3jP9jNPXwHkLanIV-4=s0-w100-h100-dcAVWCwlIC',\n",
              "  'link': 'news.google.com/./articles/CAIiEE-H8-sBQaVwWE_iCG5jwbEqGAgEKg8IACoHCAow3-PBAjCN8yEwyu7hBg?uo=CAUiWGh0dHBzOi8vY3JpdGljYWxoaXRzLmNvbS5ici9nYW1lcy9yb2Jsb3gtY29kaWdvcy1kby1uYXJ1dG8tZGVmZW5zZS1zaW11bGF0b3ItanVuaG8tMjAyMi_SAQA&hl=pt-BR&gl=BR&ceid=BR%3Apt-419',\n",
              "  'media': None,\n",
              "  'site': 'Critical Hits',\n",
              "  'title': 'Roblox – Códigos do Naruto Defense Simulator (junho 2022)'},\n",
              " {'date': '12 horas atrás',\n",
              "  'datetime': None,\n",
              "  'desc': 'bookmark_border',\n",
              "  'img': 'https://lh3.googleusercontent.com/proxy/rDwk-s9F4VtcN1fSX6QctIDuLLYGVivoSoLtlsEUWRtcdeLM1ZH1liAKfT7hQoJ0wJBb9XQQwC-iSoA2I4v51AcBSXy42EpybP7WcagOFTtWKf84rdsDBBBJ7r3PhCg=s0-w100-h100-dcpRWG7J0F',\n",
              "  'link': 'news.google.com/./articles/CAIiEIWLqVS6HDHo0JYkrJ2FmH0qGAgEKg8IACoHCAow3-PBAjCN8yEwyu7hBg?uo=CAUia2h0dHBzOi8vY3JpdGljYWxoaXRzLmNvbS5ici9hbmltZS9mYS1kZS1uYXJ1dG8tcmVjcmlhLWR3YXluZS1qb2huc29uLWNvbW8tby1yYWlrYWdlLWUtdmlyYWxpemEtbmEtaW50ZXJuZXQv0gEA&hl=pt-BR&gl=BR&ceid=BR%3Apt-419',\n",
              "  'media': None,\n",
              "  'site': 'Critical Hits',\n",
              "  'title': 'Fã de Naruto recria Dwayne Johnson como o Raikage e viraliza na internet'},\n",
              " {'date': '23 horas atrás',\n",
              "  'datetime': None,\n",
              "  'desc': 'bookmark_border',\n",
              "  'img': 'https://lh3.googleusercontent.com/proxy/cKzqzlHtffLUJb2_nZa5XA8t_3Z0Ji-nYq5rdD0OknC7WX1qD03-zaRzXKT8ioUdQ4uQRNjn47y7_KmKbHfuYSDyI4Xfl9xlUSml8U_cpQXGXhrZeJ6PB9YzliUVgft6ZMqVDgtEPqmynPRtj2aT7um4K41ZiQ=s0-w100-h100-dcFReYSR4J',\n",
              "  'link': 'news.google.com/./articles/CAIiEMYsrb6Zhdlj-EiebcvCIfsqGQgEKhAIACoHCAowk9-TCzCi_6gDMKKOngc?uo=CAUiSGh0dHBzOi8vdHJlY29ib3guY29tLmJyL2VudGVuZGEtamlyYWl5YS1uYW8tdm9sdG91LWVkby10ZW5zZWktZW0tbmFydXRvL9IBAA&hl=pt-BR&gl=BR&ceid=BR%3Apt-419',\n",
              "  'media': None,\n",
              "  'site': 'Trecobox',\n",
              "  'title': 'Entenda por que o Jiraiya não voltou como Edo Tensei em Naruto'},\n",
              " {'date': 'Ontem',\n",
              "  'datetime': None,\n",
              "  'desc': 'bookmark_border',\n",
              "  'img': 'https://lh3.googleusercontent.com/proxy/ZFC4WSMrwUc6-qVb-mE3mqvoaeud-wUowx4arSbO6YhqeYJnJ7EAfO2TWyJ7WpgpcA57ocY5R-rViQOSYP7jMUHOxS9dZmG_2STop3NpvdQ0BXGFjTajmyAng8rl17pkvVk29ga9uMXdPOV591hwFQRm9w2XFCPavsQ4PkCBqtic3Q=s0-w100-h100-dcLTaSzqEI',\n",
              "  'link': 'news.google.com/./articles/CAIiEIkd6Uua_WzTfdq0RTqNG7UqGAgEKg8IACoHCAow3-PBAjCN8yEwpq3iBg?uo=CAUiamh0dHBzOi8vY3JpdGljYWxoaXRzLmNvbS5ici9hbmltZS9leGlzdGUtdW0tZGV0YWxoZS1zb2JyZS1vLWNsYS1zYXJ1dG9iaS1xdWUtcG91Y29zLWZhcy1kZS1uYXJ1dG8tbm90YXJhbS_SAQA&hl=pt-BR&gl=BR&ceid=BR%3Apt-419',\n",
              "  'media': None,\n",
              "  'site': 'Critical Hits',\n",
              "  'title': 'Existe um detalhe sobre o Clã Sarutobi que poucos fãs de Naruto notaram'},\n",
              " {'date': '7 horas atrás',\n",
              "  'datetime': None,\n",
              "  'desc': 'bookmark_border',\n",
              "  'img': 'https://lh3.googleusercontent.com/proxy/je_yYVu20l1eG_BeG7kd6JW51xfo9wVNkKcjIynJ3ohsIF6gZek8zcNTn1Yg7wt000_lFWM8fz2JT50g2mK_G3nT1JUZgLsemoqUg6fafIqVIYWU-yX29N4dD5w=s0-w100-h100-dcpQKKjj0F',\n",
              "  'link': 'news.google.com/./articles/CBMiWWh0dHBzOi8vd3d3LnRlY211bmRvLmNvbS5ici92b3hlbC8yNDAzMjUtb2ZlcnRhcy1kZXNibG9xdWVhZGFzLXhib3gtam9nb3MtOTAtZGVzY29udG8uaHRt0gFdaHR0cHM6Ly93d3cudGVjbXVuZG8uY29tLmJyL2FtcC92b3hlbC8yNDAzMjUtb2ZlcnRhcy1kZXNibG9xdWVhZGFzLXhib3gtam9nb3MtOTAtZGVzY29udG8uaHRt?hl=pt-BR&gl=BR&ceid=BR%3Apt-419',\n",
              "  'media': None,\n",
              "  'site': 'TecMundo',\n",
              "  'title': 'Ofertas desbloqueadas Xbox: jogos com até 90% de desconto'},\n",
              " {'date': '3 horas atrás',\n",
              "  'datetime': None,\n",
              "  'desc': 'bookmark_border',\n",
              "  'img': 'https://lh3.googleusercontent.com/proxy/I2CviOjklPko0Nt8kVKSqzUCZr6GmOzsBt-lDArm-vDKqqqgmheaKer1H-QHA-G8JwxpXqHqygiJSyVtqOmzfaHJQ5AF_BbiTZq9IF8uKeJ0myqlmnhNTzX4ZiL28iMaGl_6E-4GY5vf3DNPsxQ=s0-w100-h100-dcpQWC7YkL',\n",
              "  'link': 'news.google.com/./articles/CAIiEGLUBI-1kDg8hncVHziwNvwqGQgEKhAIACoHCAowk9-TCzCi_6gDMKKOngc?uo=CAUiRmh0dHBzOi8vdHJlY29ib3guY29tLmJyL2JsZWFjaC1jb25oZWNhLXRvZGFzLXRyYW5zZm9ybWFjb2VzLWRvLWljaGlnby_SAQA&hl=pt-BR&gl=BR&ceid=BR%3Apt-419',\n",
              "  'media': None,\n",
              "  'site': 'Trecobox',\n",
              "  'title': 'Bleach: Conheça todas transformações do Ichigo - Anime'},\n",
              " {'date': 'Ontem',\n",
              "  'datetime': None,\n",
              "  'desc': 'bookmark_border',\n",
              "  'img': 'https://lh3.googleusercontent.com/proxy/hrROf3DH-PrlUxL5WhqAZdLUirXt4-yjhXuXX2xRV0LA4psp59jjZ7uRZ0HqkZifslK-QWd4ZEKEEYdfeoAK_ZzJYLzwSe1SKJL344jSs8fkV2-feu5MYUmPDjk15sUVUo7NXXKTBLxST_0QHOVFipb70XYiku8=s0-w100-h100-dclQKMKpkH',\n",
              "  'link': 'news.google.com/./articles/CAIiEHbE1n51SlWxB-ouGRu8EgUqGAgEKg8IACoHCAowndnTATD7gTYw2r2dAg?uo=CAUifmh0dHBzOi8vd3d3LmZvbGhhdml0b3JpYS5jb20uYnIvZ2FtZXMvbm90aWNpYS8wNi8yMDIyL292ZXJ3YXRjaC0yLWNoZWdhLWVtLTQtZGUtb3V0dWJyby1lLWEtcmFpbmhhLWp1bmtlci1zZS1qdW50YXJhLWEtYmF0YWxoYdIBAA&hl=pt-BR&gl=BR&ceid=BR%3Apt-419',\n",
              "  'media': None,\n",
              "  'site': 'Folha Vitória',\n",
              "  'title': 'Overwatch 2 chega em 4 de outubro e a Rainha Junker se juntará à batalha'},\n",
              " {'date': 'Ontem',\n",
              "  'datetime': None,\n",
              "  'desc': 'bookmark_border',\n",
              "  'img': 'https://lh3.googleusercontent.com/proxy/uV22PVUeculn79i9bTCfbjXT3mceLVFtphHvaVUxpUb7ZaTp4dHwniRvuV1AWT-9pcq1sDfIEAzg8xMT657taQlaysZIU3Bk3WwMuF6dkfXbWlC4Pq5qASZgBHLPT_VS4MBi3YQwHcE_V3THoWqXKMRU9KKOSCfVu7t6XwYxNtbP4MlC__vRFZ-OiVeCBYfzZIJN=s0-w100-h100-dckTGGMTXjNZZ4qKE',\n",
              "  'link': 'news.google.com/./articles/CBMiK2h0dHBzOi8vYnIubWlsbGVuaXVtLmdnL25vdGljaWFzLzEwNDE0Lmh0bWzSAS9odHRwczovL2JyLm1pbGxlbml1bS5nZy9hbXAvbm90aWNpYXMvMTA0MTQuaHRtbA?hl=pt-BR&gl=BR&ceid=BR%3Apt-419',\n",
              "  'media': None,\n",
              "  'site': 'Millenium BR',\n",
              "  'title': 'Fortnite: Epic Games retorna com mecânica muito divertida, mas horripilante para o competitivo'},\n",
              " {'date': 'Ontem',\n",
              "  'datetime': None,\n",
              "  'desc': 'bookmark_border',\n",
              "  'img': 'https://lh3.googleusercontent.com/proxy/tPgVcxcSch79TON-K7SGys6Gt8QsWf6G0uea7kTEt6yYKmQw5_WPknrU6-bXXvpIhYvBqGgrRWwORSy_4cB_zOn7p5El8zb3cRFTSj-QirVEXNnWRouLTLJrEYMiv9ITANYQRbE_gas_gPyS5vHmEsKIi3mF4avTxKbkcYQXVQ=s0-w100-h100-dcASCIpKAG',\n",
              "  'link': 'news.google.com/./articles/CBMiaWh0dHBzOi8vbXVsdGl2ZXJzb25vdGljaWFzLmNvbS5ici9uaWNrZWxvZGVvbi1hbGwtc3Rhci1icmF3bC1wb2RlLXNlci1hY2Vzc2Fkby1wb3ItYXNzaW5hbnRlcy1kYS1wcy1wbHVzL9IBbWh0dHBzOi8vbXVsdGl2ZXJzb25vdGljaWFzLmNvbS5ici9uaWNrZWxvZGVvbi1hbGwtc3Rhci1icmF3bC1wb2RlLXNlci1hY2Vzc2Fkby1wb3ItYXNzaW5hbnRlcy1kYS1wcy1wbHVzL2FtcC8?hl=pt-BR&gl=BR&ceid=BR%3Apt-419',\n",
              "  'media': None,\n",
              "  'site': 'Multiverso Notícias',\n",
              "  'title': 'Nickelodeon All-Star Brawl pode ser acessado por assinantes da PS Plus'},\n",
              " {'date': '9 horas atrás',\n",
              "  'datetime': None,\n",
              "  'desc': 'bookmark_border',\n",
              "  'img': 'https://lh3.googleusercontent.com/proxy/Jk5JTl30oiDuKI1fY8EWPDGzcqZETKe1IMeFn5ePmuHH2p9oNs7yLfKmbEKlu7sPZocmnb90kmX3SxWlEL7Bdl5ehBFyDmmV2HFhov2GA0c1LCDoTI_z2N72antiGZ1h3T9RqqynfsOWoTSmqLfC=s0-w100-h100-dcqVOMbiEG',\n",
              "  'link': 'news.google.com/./articles/CBMiQGh0dHBzOi8vZ2FtZXJ2aWV3LnVhaS5jb20uYnIvYXJ0aWdvcy9ub3ZvLXBsYXlzdGF0aW9uLXBsdXMtMjAyMi_SAQA?hl=pt-BR&gl=BR&ceid=BR%3Apt-419',\n",
              "  'media': None,\n",
              "  'site': 'gamerview.uai.com.br',\n",
              "  'title': 'Novo PlayStation Plus agrada, mas tem muito a melhorar'},\n",
              " {'date': 'Ontem',\n",
              "  'datetime': None,\n",
              "  'desc': 'Opinião',\n",
              "  'img': 'https://lh3.googleusercontent.com/proxy/2HFm2Tobnh9_jZUDzkHGdjEr1evkWXI6a1RTmS-cDai8irpY6r2fAbyASicBOz-ehSRCbkQQbnpXy0bO2IuRextLzjsDG54_eG8EXl7sV48NVA9sFpGB8o8=s0-w100-h100-dcDUGUthgK',\n",
              "  'link': 'news.google.com/./articles/CBMiUmh0dHBzOi8vY29zbW9uZXJkLmNvbS5ici9vcGluYW5lcmQvYS1kZXNjb25zdHJ1Y2FvLXByb2JsZW1hdGljYS1kZS1sdWtlLXNreXdhbGtlci_SAQA?hl=pt-BR&gl=BR&ceid=BR%3Apt-419',\n",
              "  'media': None,\n",
              "  'site': 'CosmoNerd',\n",
              "  'title': 'A desconstrução problemática de Luke Skywalker'},\n",
              " {'date': '5 horas atrás',\n",
              "  'datetime': None,\n",
              "  'desc': 'bookmark_border',\n",
              "  'img': 'https://lh3.googleusercontent.com/proxy/khbzxXf7S7t_yt1xFZjQSNka9YtrK9net2NG6ke9_x8nTvjH71CyufGD0btiRRmRi3r67W4LrCxi6SiRsvPuXOpY7yeEN7WveskbX5e_gHOgTZ4A5qrBKMIUvKirFCmLNw8KwnjtnMKz3xNT361o6lMRdz8V0O3j30Qj0zDNfZiPqZPJTgvEjkD3QeLiUBA=s0-w100-h100-dcBQKGrREK',\n",
              "  'link': 'news.google.com/./articles/CBMiRmh0dHBzOi8vd3d3LmxlZ2lhb2Rvc2hlcm9pcy5jb20uYnIvcXVpei9uYXJ1dG8tanV0c3UtdmlzdWFsLWFuaW1lLmh0bWzSAQA?hl=pt-BR&gl=BR&ceid=BR%3Apt-419',\n",
              "  'media': None,\n",
              "  'site': 'Legião dos Heróis',\n",
              "  'title': '[Quiz] Naruto: Qual seria seu jutsu visual no anime?'},\n",
              " {'date': '5 horas atrás',\n",
              "  'datetime': None,\n",
              "  'desc': 'bookmark_border',\n",
              "  'img': 'https://lh3.googleusercontent.com/proxy/YQrh-x4YqM-GBFl1AzwzvRnsjx1s0x5XbPxT2aYTNODwlayVits5YTJUYSbEWM8VoYTBmhlCjNjaFeycAlyGACl8ipS_HhrBfeffTPsbCljj1hxkJC_HqYT7maztkNZ3eAh86vc3=s0-w100-h100-dcnQSMrpEH',\n",
              "  'link': 'news.google.com/./articles/CAIiEI_ktTPiuKsBa0IB4HtuxC0qGAgEKg8IACoHCAow3-PBAjCN8yEwpq3iBg?uo=CAUiWGh0dHBzOi8vY3JpdGljYWxoaXRzLmNvbS5ici9hbmltZS9lbnRlbmRhLXBvci1xdWUtc2FzdWtlLW5hby11c2Etby1tb2RvLXNhYmlvLWVtLW5hcnV0by_SAQA&hl=pt-BR&gl=BR&ceid=BR%3Apt-419',\n",
              "  'media': None,\n",
              "  'site': 'Critical Hits',\n",
              "  'title': 'Entenda por que Sasuke não usa o modo sábio em Naruto'},\n",
              " {'date': '10 horas atrás',\n",
              "  'datetime': None,\n",
              "  'desc': 'bookmark_border',\n",
              "  'img': 'https://lh3.googleusercontent.com/proxy/pYB0QkbimM9C7woJpCsjugP2_K9p8CysDz92pRfBGFHHAJUZgWs9J4wXGcU4TOdA0OKjlRPhyaPC6HQeK1ST_e0g8bYzp-RnzMfj812kfnm1CAw2OU7j_W8qvvLeMBHgIxbHO3jP9jNPXwHkLanIV-4=s0-w100-h100-dcAVWCwlIC',\n",
              "  'link': 'news.google.com/./articles/CAIiEE-H8-sBQaVwWE_iCG5jwbEqGAgEKg8IACoHCAow3-PBAjCN8yEwyu7hBg?uo=CAUiWGh0dHBzOi8vY3JpdGljYWxoaXRzLmNvbS5ici9nYW1lcy9yb2Jsb3gtY29kaWdvcy1kby1uYXJ1dG8tZGVmZW5zZS1zaW11bGF0b3ItanVuaG8tMjAyMi_SAQA&hl=pt-BR&gl=BR&ceid=BR%3Apt-419',\n",
              "  'media': None,\n",
              "  'site': 'Critical Hits',\n",
              "  'title': 'Roblox – Códigos do Naruto Defense Simulator (junho 2022)'},\n",
              " {'date': '12 horas atrás',\n",
              "  'datetime': None,\n",
              "  'desc': 'bookmark_border',\n",
              "  'img': 'https://lh3.googleusercontent.com/proxy/rDwk-s9F4VtcN1fSX6QctIDuLLYGVivoSoLtlsEUWRtcdeLM1ZH1liAKfT7hQoJ0wJBb9XQQwC-iSoA2I4v51AcBSXy42EpybP7WcagOFTtWKf84rdsDBBBJ7r3PhCg=s0-w100-h100-dcpRWG7J0F',\n",
              "  'link': 'news.google.com/./articles/CAIiEIWLqVS6HDHo0JYkrJ2FmH0qGAgEKg8IACoHCAow3-PBAjCN8yEwyu7hBg?uo=CAUia2h0dHBzOi8vY3JpdGljYWxoaXRzLmNvbS5ici9hbmltZS9mYS1kZS1uYXJ1dG8tcmVjcmlhLWR3YXluZS1qb2huc29uLWNvbW8tby1yYWlrYWdlLWUtdmlyYWxpemEtbmEtaW50ZXJuZXQv0gEA&hl=pt-BR&gl=BR&ceid=BR%3Apt-419',\n",
              "  'media': None,\n",
              "  'site': 'Critical Hits',\n",
              "  'title': 'Fã de Naruto recria Dwayne Johnson como o Raikage e viraliza na internet'},\n",
              " {'date': '23 horas atrás',\n",
              "  'datetime': None,\n",
              "  'desc': 'bookmark_border',\n",
              "  'img': 'https://lh3.googleusercontent.com/proxy/cKzqzlHtffLUJb2_nZa5XA8t_3Z0Ji-nYq5rdD0OknC7WX1qD03-zaRzXKT8ioUdQ4uQRNjn47y7_KmKbHfuYSDyI4Xfl9xlUSml8U_cpQXGXhrZeJ6PB9YzliUVgft6ZMqVDgtEPqmynPRtj2aT7um4K41ZiQ=s0-w100-h100-dcFReYSR4J',\n",
              "  'link': 'news.google.com/./articles/CAIiEMYsrb6Zhdlj-EiebcvCIfsqGQgEKhAIACoHCAowk9-TCzCi_6gDMKKOngc?uo=CAUiSGh0dHBzOi8vdHJlY29ib3guY29tLmJyL2VudGVuZGEtamlyYWl5YS1uYW8tdm9sdG91LWVkby10ZW5zZWktZW0tbmFydXRvL9IBAA&hl=pt-BR&gl=BR&ceid=BR%3Apt-419',\n",
              "  'media': None,\n",
              "  'site': 'Trecobox',\n",
              "  'title': 'Entenda por que o Jiraiya não voltou como Edo Tensei em Naruto'},\n",
              " {'date': 'Ontem',\n",
              "  'datetime': None,\n",
              "  'desc': 'bookmark_border',\n",
              "  'img': 'https://lh3.googleusercontent.com/proxy/ZFC4WSMrwUc6-qVb-mE3mqvoaeud-wUowx4arSbO6YhqeYJnJ7EAfO2TWyJ7WpgpcA57ocY5R-rViQOSYP7jMUHOxS9dZmG_2STop3NpvdQ0BXGFjTajmyAng8rl17pkvVk29ga9uMXdPOV591hwFQRm9w2XFCPavsQ4PkCBqtic3Q=s0-w100-h100-dcLTaSzqEI',\n",
              "  'link': 'news.google.com/./articles/CAIiEIkd6Uua_WzTfdq0RTqNG7UqGAgEKg8IACoHCAow3-PBAjCN8yEwpq3iBg?uo=CAUiamh0dHBzOi8vY3JpdGljYWxoaXRzLmNvbS5ici9hbmltZS9leGlzdGUtdW0tZGV0YWxoZS1zb2JyZS1vLWNsYS1zYXJ1dG9iaS1xdWUtcG91Y29zLWZhcy1kZS1uYXJ1dG8tbm90YXJhbS_SAQA&hl=pt-BR&gl=BR&ceid=BR%3Apt-419',\n",
              "  'media': None,\n",
              "  'site': 'Critical Hits',\n",
              "  'title': 'Existe um detalhe sobre o Clã Sarutobi que poucos fãs de Naruto notaram'},\n",
              " {'date': '7 horas atrás',\n",
              "  'datetime': None,\n",
              "  'desc': 'bookmark_border',\n",
              "  'img': 'https://lh3.googleusercontent.com/proxy/je_yYVu20l1eG_BeG7kd6JW51xfo9wVNkKcjIynJ3ohsIF6gZek8zcNTn1Yg7wt000_lFWM8fz2JT50g2mK_G3nT1JUZgLsemoqUg6fafIqVIYWU-yX29N4dD5w=s0-w100-h100-dcpQKKjj0F',\n",
              "  'link': 'news.google.com/./articles/CBMiWWh0dHBzOi8vd3d3LnRlY211bmRvLmNvbS5ici92b3hlbC8yNDAzMjUtb2ZlcnRhcy1kZXNibG9xdWVhZGFzLXhib3gtam9nb3MtOTAtZGVzY29udG8uaHRt0gFdaHR0cHM6Ly93d3cudGVjbXVuZG8uY29tLmJyL2FtcC92b3hlbC8yNDAzMjUtb2ZlcnRhcy1kZXNibG9xdWVhZGFzLXhib3gtam9nb3MtOTAtZGVzY29udG8uaHRt?hl=pt-BR&gl=BR&ceid=BR%3Apt-419',\n",
              "  'media': None,\n",
              "  'site': 'TecMundo',\n",
              "  'title': 'Ofertas desbloqueadas Xbox: jogos com até 90% de desconto'},\n",
              " {'date': '3 horas atrás',\n",
              "  'datetime': None,\n",
              "  'desc': 'bookmark_border',\n",
              "  'img': 'https://lh3.googleusercontent.com/proxy/I2CviOjklPko0Nt8kVKSqzUCZr6GmOzsBt-lDArm-vDKqqqgmheaKer1H-QHA-G8JwxpXqHqygiJSyVtqOmzfaHJQ5AF_BbiTZq9IF8uKeJ0myqlmnhNTzX4ZiL28iMaGl_6E-4GY5vf3DNPsxQ=s0-w100-h100-dcpQWC7YkL',\n",
              "  'link': 'news.google.com/./articles/CAIiEGLUBI-1kDg8hncVHziwNvwqGQgEKhAIACoHCAowk9-TCzCi_6gDMKKOngc?uo=CAUiRmh0dHBzOi8vdHJlY29ib3guY29tLmJyL2JsZWFjaC1jb25oZWNhLXRvZGFzLXRyYW5zZm9ybWFjb2VzLWRvLWljaGlnby_SAQA&hl=pt-BR&gl=BR&ceid=BR%3Apt-419',\n",
              "  'media': None,\n",
              "  'site': 'Trecobox',\n",
              "  'title': 'Bleach: Conheça todas transformações do Ichigo - Anime'},\n",
              " {'date': 'Ontem',\n",
              "  'datetime': None,\n",
              "  'desc': 'bookmark_border',\n",
              "  'img': 'https://lh3.googleusercontent.com/proxy/hrROf3DH-PrlUxL5WhqAZdLUirXt4-yjhXuXX2xRV0LA4psp59jjZ7uRZ0HqkZifslK-QWd4ZEKEEYdfeoAK_ZzJYLzwSe1SKJL344jSs8fkV2-feu5MYUmPDjk15sUVUo7NXXKTBLxST_0QHOVFipb70XYiku8=s0-w100-h100-dclQKMKpkH',\n",
              "  'link': 'news.google.com/./articles/CAIiEHbE1n51SlWxB-ouGRu8EgUqGAgEKg8IACoHCAowndnTATD7gTYw2r2dAg?uo=CAUifmh0dHBzOi8vd3d3LmZvbGhhdml0b3JpYS5jb20uYnIvZ2FtZXMvbm90aWNpYS8wNi8yMDIyL292ZXJ3YXRjaC0yLWNoZWdhLWVtLTQtZGUtb3V0dWJyby1lLWEtcmFpbmhhLWp1bmtlci1zZS1qdW50YXJhLWEtYmF0YWxoYdIBAA&hl=pt-BR&gl=BR&ceid=BR%3Apt-419',\n",
              "  'media': None,\n",
              "  'site': 'Folha Vitória',\n",
              "  'title': 'Overwatch 2 chega em 4 de outubro e a Rainha Junker se juntará à batalha'},\n",
              " {'date': 'Ontem',\n",
              "  'datetime': None,\n",
              "  'desc': 'bookmark_border',\n",
              "  'img': 'https://lh3.googleusercontent.com/proxy/uV22PVUeculn79i9bTCfbjXT3mceLVFtphHvaVUxpUb7ZaTp4dHwniRvuV1AWT-9pcq1sDfIEAzg8xMT657taQlaysZIU3Bk3WwMuF6dkfXbWlC4Pq5qASZgBHLPT_VS4MBi3YQwHcE_V3THoWqXKMRU9KKOSCfVu7t6XwYxNtbP4MlC__vRFZ-OiVeCBYfzZIJN=s0-w100-h100-dckTGGMTXjNZZ4qKE',\n",
              "  'link': 'news.google.com/./articles/CBMiK2h0dHBzOi8vYnIubWlsbGVuaXVtLmdnL25vdGljaWFzLzEwNDE0Lmh0bWzSAS9odHRwczovL2JyLm1pbGxlbml1bS5nZy9hbXAvbm90aWNpYXMvMTA0MTQuaHRtbA?hl=pt-BR&gl=BR&ceid=BR%3Apt-419',\n",
              "  'media': None,\n",
              "  'site': 'Millenium BR',\n",
              "  'title': 'Fortnite: Epic Games retorna com mecânica muito divertida, mas horripilante para o competitivo'},\n",
              " {'date': 'Ontem',\n",
              "  'datetime': None,\n",
              "  'desc': 'bookmark_border',\n",
              "  'img': 'https://lh3.googleusercontent.com/proxy/tPgVcxcSch79TON-K7SGys6Gt8QsWf6G0uea7kTEt6yYKmQw5_WPknrU6-bXXvpIhYvBqGgrRWwORSy_4cB_zOn7p5El8zb3cRFTSj-QirVEXNnWRouLTLJrEYMiv9ITANYQRbE_gas_gPyS5vHmEsKIi3mF4avTxKbkcYQXVQ=s0-w100-h100-dcASCIpKAG',\n",
              "  'link': 'news.google.com/./articles/CBMiaWh0dHBzOi8vbXVsdGl2ZXJzb25vdGljaWFzLmNvbS5ici9uaWNrZWxvZGVvbi1hbGwtc3Rhci1icmF3bC1wb2RlLXNlci1hY2Vzc2Fkby1wb3ItYXNzaW5hbnRlcy1kYS1wcy1wbHVzL9IBbWh0dHBzOi8vbXVsdGl2ZXJzb25vdGljaWFzLmNvbS5ici9uaWNrZWxvZGVvbi1hbGwtc3Rhci1icmF3bC1wb2RlLXNlci1hY2Vzc2Fkby1wb3ItYXNzaW5hbnRlcy1kYS1wcy1wbHVzL2FtcC8?hl=pt-BR&gl=BR&ceid=BR%3Apt-419',\n",
              "  'media': None,\n",
              "  'site': 'Multiverso Notícias',\n",
              "  'title': 'Nickelodeon All-Star Brawl pode ser acessado por assinantes da PS Plus'},\n",
              " {'date': '2 horas atrás',\n",
              "  'datetime': None,\n",
              "  'desc': 'bookmark_border',\n",
              "  'img': 'https://lh3.googleusercontent.com/proxy/JRiQQH-a7CCQfgIKtWy1N_q_415OveIkmdEbkazOmI7nrIt7mqMLpUKip189OmdxrQ9ipAdT3lsP4d6GQbdIBCBzYOOiQQ3cqzy5UsBjK4SB5x90GdMNFqr52pyqC41hYrSst3hs2Jq8w-ykM6mgP-K_HDEKsQMJFa7Lr_A48J3gVKHkaIT3CejEbL0s4XQ7IQtN9jiH7w2uf1baOStRgbMyoCptyw=s0-w100-h100-dcGWKMLK0F',\n",
              "  'link': 'news.google.com/./articles/CBMiSGh0dHBzOi8vdHJlY29ib3guY29tLmJyL3dlYi1zdG9yaWVzL2NvbmZpcmEtdG9kb3Mtam9nb3MtZG8tbm92by1wcy1wbHVzL9IBSGh0dHBzOi8vdHJlY29ib3guY29tLmJyL3dlYi1zdG9yaWVzL2NvbmZpcmEtdG9kb3Mtam9nb3MtZG8tbm92by1wcy1wbHVzLw?hl=pt-BR&gl=BR&ceid=BR%3Apt-419',\n",
              "  'media': None,\n",
              "  'site': 'Trecobox',\n",
              "  'title': 'Confira Todos Jogos do Novo PS Plus'},\n",
              " {'date': 'Ontem',\n",
              "  'datetime': None,\n",
              "  'desc': 'Opinião',\n",
              "  'img': 'https://lh3.googleusercontent.com/proxy/2HFm2Tobnh9_jZUDzkHGdjEr1evkWXI6a1RTmS-cDai8irpY6r2fAbyASicBOz-ehSRCbkQQbnpXy0bO2IuRextLzjsDG54_eG8EXl7sV48NVA9sFpGB8o8=s0-w100-h100-dcDUGUthgK',\n",
              "  'link': 'news.google.com/./articles/CBMiUmh0dHBzOi8vY29zbW9uZXJkLmNvbS5ici9vcGluYW5lcmQvYS1kZXNjb25zdHJ1Y2FvLXByb2JsZW1hdGljYS1kZS1sdWtlLXNreXdhbGtlci_SAQA?hl=pt-BR&gl=BR&ceid=BR%3Apt-419',\n",
              "  'media': None,\n",
              "  'site': 'CosmoNerd',\n",
              "  'title': 'A desconstrução problemática de Luke Skywalker'}]"
            ]
          },
          "metadata": {},
          "execution_count": 39
        }
      ]
    },
    {
      "cell_type": "markdown",
      "source": [
        "Passo 7: vamos passar o resultado da pesquisa para um data frame."
      ],
      "metadata": {
        "id": "W7P5P7arYXnI"
      }
    },
    {
      "cell_type": "code",
      "source": [
        "dfNaruto = pd.DataFrame(pesquisa_naruto)"
      ],
      "metadata": {
        "id": "7PHIXWoxVzcJ"
      },
      "execution_count": null,
      "outputs": []
    },
    {
      "cell_type": "code",
      "source": [
        "dfNaruto.columns"
      ],
      "metadata": {
        "colab": {
          "base_uri": "https://localhost:8080/"
        },
        "id": "xXGehzjQXvA_",
        "outputId": "830685ef-b653-483e-eeee-c469d63a3469"
      },
      "execution_count": null,
      "outputs": [
        {
          "output_type": "execute_result",
          "data": {
            "text/plain": [
              "Index(['title', 'desc', 'date', 'datetime', 'link', 'img', 'media', 'site'], dtype='object')"
            ]
          },
          "metadata": {},
          "execution_count": 43
        }
      ]
    },
    {
      "cell_type": "markdown",
      "source": [
        "Passo 8: normalmente, as pesquisas abrangem poucos dias para evitar gargalos de performance. É comum rodas o scritp a cada dia ou a cada dois dias e armazenar os resultados em um arquivos CS>"
      ],
      "metadata": {
        "id": "WAU8ll-WY6r5"
      }
    },
    {
      "cell_type": "code",
      "source": [
        "dfNaruto.to_csv(\"naruto20220614.csv\")"
      ],
      "metadata": {
        "id": "w1zGFp87ZJO5"
      },
      "execution_count": null,
      "outputs": []
    }
  ]
}