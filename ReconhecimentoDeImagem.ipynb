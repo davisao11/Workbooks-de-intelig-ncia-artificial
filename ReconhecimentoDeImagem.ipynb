{
  "nbformat": 4,
  "nbformat_minor": 0,
  "metadata": {
    "colab": {
      "name": "ReconhecimentoDeImagem.ipynb",
      "provenance": []
    },
    "kernelspec": {
      "name": "python3",
      "display_name": "Python 3"
    },
    "language_info": {
      "name": "python"
    }
  },
  "cells": [
    {
      "cell_type": "markdown",
      "source": [
        "Passo 1 - Vamos importar o TensorFlow"
      ],
      "metadata": {
        "id": "lEHB1kZzBwcc"
      }
    },
    {
      "cell_type": "code",
      "source": [
        "import tensorflow as tf\n",
        "print(tf.__version__)"
      ],
      "metadata": {
        "colab": {
          "base_uri": "https://localhost:8080/"
        },
        "id": "1sFw_9SQBzB1",
        "outputId": "af3a46c7-ead4-4c23-bff1-30d45b57dbf0"
      },
      "execution_count": null,
      "outputs": [
        {
          "output_type": "stream",
          "name": "stdout",
          "text": [
            "2.8.0\n"
          ]
        }
      ]
    },
    {
      "cell_type": "markdown",
      "source": [
        "Passo 2 - vamos carregar o banco de dados Fashion Mnist. O tensorflow disponibiliza este banco de imagens de forma nativa."
      ],
      "metadata": {
        "id": "2KulGSrVCCoe"
      }
    },
    {
      "cell_type": "code",
      "source": [
        "mnist = tf.keras.datasets.fashion_mnist"
      ],
      "metadata": {
        "id": "t7rrtTTnCThH"
      },
      "execution_count": null,
      "outputs": []
    },
    {
      "cell_type": "markdown",
      "source": [
        "Passo 3 - vamos utilizar a função \"load_data()\" do objeto mnist para carregar os dados. A função load_data já separa dados para treinamento e teste."
      ],
      "metadata": {
        "id": "1QalS8kKCnIJ"
      }
    },
    {
      "cell_type": "code",
      "source": [
        "(training_images, training_labels), (test_images,test_labels) = mnist.load_data()"
      ],
      "metadata": {
        "id": "09k4c_URCxOB",
        "colab": {
          "base_uri": "https://localhost:8080/"
        },
        "outputId": "5be097e6-2528-497b-82a8-40c4fc624457"
      },
      "execution_count": null,
      "outputs": [
        {
          "output_type": "stream",
          "name": "stdout",
          "text": [
            "Downloading data from https://storage.googleapis.com/tensorflow/tf-keras-datasets/train-labels-idx1-ubyte.gz\n",
            "32768/29515 [=================================] - 0s 0us/step\n",
            "40960/29515 [=========================================] - 0s 0us/step\n",
            "Downloading data from https://storage.googleapis.com/tensorflow/tf-keras-datasets/train-images-idx3-ubyte.gz\n",
            "26427392/26421880 [==============================] - 0s 0us/step\n",
            "26435584/26421880 [==============================] - 0s 0us/step\n",
            "Downloading data from https://storage.googleapis.com/tensorflow/tf-keras-datasets/t10k-labels-idx1-ubyte.gz\n",
            "16384/5148 [===============================================================================================] - 0s 0us/step\n",
            "Downloading data from https://storage.googleapis.com/tensorflow/tf-keras-datasets/t10k-images-idx3-ubyte.gz\n",
            "4423680/4422102 [==============================] - 0s 0us/step\n",
            "4431872/4422102 [==============================] - 0s 0us/step\n"
          ]
        }
      ]
    },
    {
      "cell_type": "markdown",
      "source": [
        "Vamos ver a quantidade de imagens que foram carregadas para treinamento, bem como a quantidade de imagens carregadas para teste."
      ],
      "metadata": {
        "id": "i4Yrm3mIJ3Vi"
      }
    },
    {
      "cell_type": "code",
      "source": [
        "print(\"Quantidade de imagens separadas para treinamento:\", len(training_images))\n",
        "print(\"Quantidade de imagens separadas para teste:\", len(test_images))"
      ],
      "metadata": {
        "colab": {
          "base_uri": "https://localhost:8080/"
        },
        "id": "kJLcdqiPJ-Dz",
        "outputId": "bba9a5b7-3e30-4c95-bb62-79daeff26318"
      },
      "execution_count": null,
      "outputs": [
        {
          "output_type": "stream",
          "name": "stdout",
          "text": [
            "Quantidade de imagens separadas para treinamento: 60000\n",
            "Quantidade de imagens separadas para teste: 10000\n"
          ]
        }
      ]
    },
    {
      "cell_type": "markdown",
      "source": [
        "Passo 4 - vamos analisar algumas imagens com os respectivos labesl para entendermos no que a máquina se baseia para deduzir qual imagem é o que."
      ],
      "metadata": {
        "id": "PQ5R3HneKRi0"
      }
    },
    {
      "cell_type": "code",
      "source": [
        "import numpy as np\n",
        "np.set_printoptions(linewidth=200)\n",
        "print(training_images[200])\n",
        "\n",
        "import matplotlib.pyplot as plt\n",
        "plt.imshow(training_images[200])\n",
        "\n",
        "print(\"Label correspondente:\", training_labels[130])"
      ],
      "metadata": {
        "colab": {
          "base_uri": "https://localhost:8080/",
          "height": 786
        },
        "id": "YzDDBqyRKiv0",
        "outputId": "eb3eb8ef-c59c-40e1-86b3-f339c31579e4"
      },
      "execution_count": null,
      "outputs": [
        {
          "output_type": "stream",
          "name": "stdout",
          "text": [
            "[[  0   0   0   0   0   0   0   0   0   0   0   0   0  82 122  37   0   5   0   0   0   0   0   0   0   0   0   0]\n",
            " [  0   0   0   0   0   0   0   0   0   0   2   0  38 100  28 121   0   1   0   0   0   0   0   0   0   0   0   0]\n",
            " [  0   0   0   0   0   0   0   0   0   0   5   0  86  43   0 136  15   0   2   0   0   0   0   0   0   0   0   0]\n",
            " [  0   0   0   0   0   0   0   0   0   0   2   0 104  30   0 102  40   0   3   0   0   0   0   0   0   0   0   0]\n",
            " [  0   0   0   0   0   0   0   0   0   3   0   0 111   2   0  73  81   0   4   0   0   0   0   0   0   0   0   0]\n",
            " [  0   0   0   0   0   0   0   0   0   2   0  17  87   0   0  45  81   0   4   0   0   0   0   0   0   0   0   0]\n",
            " [  0   0   0   0   0   0   0   0   0   4   0  54  90   0   0  24  92   0   4   0   0   0   0   0   0   0   0   0]\n",
            " [  0   0   0   0   0   0   0   0   0   3   0  76  30   0   0   0  93   0   0   0   0   0   0   0   0   0   0   0]\n",
            " [  0   0   0   0   0   0   0   0   0   1   0  74   0   0   0   0  86   0   0   1   0   0   0   0   0   0   0   0]\n",
            " [  0   0   0   0   0   0   0   0   0   0   0 109   0   0   1   0  86  11   0   2   0   0   0   0   0   0   0   0]\n",
            " [  0   0   0   0   0   0   0   0   2   0  31  79   0   2   2   0 115  38   0   4   0   0   0   0   0   0   0   0]\n",
            " [  0   0   0   0   0   0   0   0   5   0  66  90   0   1   1   0 136  58   0   5   0   0   0   0   0   0   0   0]\n",
            " [  0   0   0   0   0   0   0   0   5   0  82 136   0   3   4   0 195  76   0   5   0   0   0   0   0   0   0   0]\n",
            " [  0   0   0   0   0   0   0   0   0   0  95 166   0   0   0   0 144  80   0   0   0   0   0   0   0   0   0   0]\n",
            " [  0   0   0   0   0   0   0   0   0  45 145 191  20  65  68  40 148 159  79  60   0   0   0   0   0   0   0   0]\n",
            " [  0   0   0   0   0   0   0   0  70 228 173 214 208 211 215 216 204 204 211 164   3   0   0   0   0   0   0   0]\n",
            " [  0   0   0   0   0   0   0   0  57 176 167 205 199 190 193 195 193 196 183 182   0   0   0   0   0   0   0   0]\n",
            " [  0   0   0   0   0   0   0   0  80 200 186 219 204 191 204 210 204 205 189 184   0   0   0   0   0   0   0   0]\n",
            " [  0   0   0   0   0   0   0   0 145 170 173 188 202 202 219 211 204 212 198 220   0   0   0   0   0   0   0   0]\n",
            " [  0   0   0   0   0   0   0   0 174 174 188 192 211 210 215 217 214 219 192 248   0   0   0   0   0   0   0   0]\n",
            " [  0   0   0   0   0   0   0   0 180 190 175 158 209 209 211 217 215 214 190 249   4   0   0   0   0   0   0   0]\n",
            " [  0   0   0   0   0   0   0   0 184 188 180 210 209 205 218 216 212 208 195 253  16   0   0   0   0   0   0   0]\n",
            " [  0   0   0   0   0   0   0   0 183 201 172 203 206 208 216 215 213 213 196 255  26   0   0   0   0   0   0   0]\n",
            " [  0   0   0   0   0   0   0   0 180 215 184 199 214 219 227 218 219 223 200 228  40   0   0   0   0   0   0   0]\n",
            " [  0   0   0   0   0   0   0   0 187 218 185 206 216 215 221 229 219 218 200 232  53   0   0   0   0   0   0   0]\n",
            " [  0   0   0   0   0   0   0   0 184 207 188 198 217 165 146 214 214 214 200 231  57   0   0   0   0   0   0   0]\n",
            " [  0   0   0   0   0   0   0   0 211 252 229 240 244 252 253 253 250 231 227 245  67   0   0   0   0   0   0   0]\n",
            " [  0   0   0   0   0   0   0   0 109 171 157 163 161 167 160 149 142 145 145 149  11   0   0   0   0   0   0   0]]\n",
            "Label correspondente: 8\n"
          ]
        },
        {
          "output_type": "display_data",
          "data": {
            "text/plain": [
              "<Figure size 432x288 with 1 Axes>"
            ],
            "image/png": "[encoded data removed]"
          },
          "metadata": {
            "needs_background": "light"
          }
        }
      ]
    },
    {
      "cell_type": "markdown",
      "source": [
        "Passo 5 - Após analisarmos algumas imagens, vimos que o valor de cada pixel está entre 0 e 255. No entanto, para treinar uma rede neural é conveniente que façamos a normalização dos valores de cada pixel para ficarem entre 0 e 1."
      ],
      "metadata": {
        "id": "ffVADdz_OiZ6"
      }
    },
    {
      "cell_type": "code",
      "source": [
        "training_images = training_images/255.0\n",
        "test_images = test_images/255.0\n",
        "#print(training_images[130])"
      ],
      "metadata": {
        "id": "IkiZE_hbO8m8"
      },
      "execution_count": null,
      "outputs": []
    },
    {
      "cell_type": "markdown",
      "source": [
        "Passo 6 - Temos dois conjuntos de imagens: um que será utilizado para treinar o modelo e outro que será utilizado para testar o modelo que foi treinado. Está separação ocorre para evitar o overfitting. Dessa forma, vamos utilizar o conjunto de imagens que estão na variável training_images para treinar a rede neural. Depois, validaremos a acurácia da rede treinado utilizando o conjunto de imagens armazenado na variável test_images.\n",
        "\n",
        "Vamos criar o modelo primeiro e depois vou comentar alguns novos conceitos."
      ],
      "metadata": {
        "id": "s2-ank9iPVik"
      }
    },
    {
      "cell_type": "code",
      "source": [
        "model = tf.keras.models.Sequential([\n",
        "                                    tf.keras.layers.Flatten(),\n",
        "                                    tf.keras.layers.Dense(128, activation=tf.nn.relu),\n",
        "                                    tf.keras.layers.Dense(10, activation=tf.nn.softmax)\n",
        "                                    ]\n",
        ")"
      ],
      "metadata": {
        "id": "MvMBZifAP19O"
      },
      "execution_count": null,
      "outputs": []
    },
    {
      "cell_type": "markdown",
      "source": [
        "Comentários relacionados ao model que foi criado.\n",
        "\n",
        "**1. Sequential:** define uma sequência de camadas para a rede neural. É como se criasse um cerébro vazio que receberá N camadas.\n",
        "\n",
        "**2. Flatten:**  lembre-se que as imagens do fashion mnsit possuem resolução 28 x 28. O flatten transforma a matriz que possui 28 linhas e 28 colunas em um array unidimensional de 784 posições. O Flatten \"achata\" a matriz.\n",
        "\n",
        "**3. Dense:** função utilizada para criar uma camada com neurônios. Pode abranger diferentes funções de ativação. **Relu:** se x>0, retorna 1, se não retorna 0. **Softmax:** retorna a probabilidade, os valores variam entre 0 e 1 e correspondem à probabilidade daquele neurônio ser o resultado final. No nosso caso, temos 10 neurônios na última camada porque o dataset possui 10 tipos de roupas distintos."
      ],
      "metadata": {
        "id": "xKvlLK3ESiZR"
      }
    },
    {
      "cell_type": "markdown",
      "source": [
        "Passo 7: agora que as imagens estão normalizadas e que a arquitetura da rede neural está definida, é hora de partirmos para o treinamento da rede neural. iremos definir a quantidade de épocas na qual a rede será treinada e é importante observar que a cada época é possível medir a acurácia do modelo. A acurácia é uma métrica que mede o volume de acertos da rede neural."
      ],
      "metadata": {
        "id": "ZJthiLKpWaik"
      }
    },
    {
      "cell_type": "code",
      "source": [
        "model.compile(optimizer=tf.optimizers.Adam(),loss='sparse_categorical_crossentropy', metrics=['accuracy'])\n",
        "\n",
        "model.fit(training_images, training_labels, epochs=10)"
      ],
      "metadata": {
        "colab": {
          "base_uri": "https://localhost:8080/"
        },
        "id": "sCcDu_G6XnrS",
        "outputId": "5f74f8ee-6614-4ae0-ef1c-7ed50e61f902"
      },
      "execution_count": null,
      "outputs": [
        {
          "output_type": "stream",
          "name": "stdout",
          "text": [
            "Epoch 1/10\n",
            "1875/1875 [==============================] - 6s 3ms/step - loss: 0.4995 - accuracy: 0.8247\n",
            "Epoch 2/10\n",
            "1875/1875 [==============================] - 7s 4ms/step - loss: 0.3760 - accuracy: 0.8639\n",
            "Epoch 3/10\n",
            "1875/1875 [==============================] - 5s 3ms/step - loss: 0.3369 - accuracy: 0.8762\n",
            "Epoch 4/10\n",
            "1875/1875 [==============================] - 4s 2ms/step - loss: 0.3132 - accuracy: 0.8862\n",
            "Epoch 5/10\n",
            "1875/1875 [==============================] - 4s 2ms/step - loss: 0.2954 - accuracy: 0.8909\n",
            "Epoch 6/10\n",
            "1875/1875 [==============================] - 4s 2ms/step - loss: 0.2807 - accuracy: 0.8974\n",
            "Epoch 7/10\n",
            "1875/1875 [==============================] - 4s 2ms/step - loss: 0.2673 - accuracy: 0.9014\n",
            "Epoch 8/10\n",
            "1875/1875 [==============================] - 4s 2ms/step - loss: 0.2569 - accuracy: 0.9043\n",
            "Epoch 9/10\n",
            "1875/1875 [==============================] - 4s 2ms/step - loss: 0.2475 - accuracy: 0.9091\n",
            "Epoch 10/10\n",
            "1875/1875 [==============================] - 4s 2ms/step - loss: 0.2390 - accuracy: 0.9108\n"
          ]
        },
        {
          "output_type": "execute_result",
          "data": {
            "text/plain": [
              "<keras.callbacks.History at 0x7faf9cf358d0>"
            ]
          },
          "metadata": {},
          "execution_count": 8
        }
      ]
    },
    {
      "cell_type": "markdown",
      "source": [
        "Passo 8 - Uma vez que a rede foi treinada, vamos verificar a acurácia da rede para advinhar as imagens separadas para teste."
      ],
      "metadata": {
        "id": "zUGhDqIJZuip"
      }
    },
    {
      "cell_type": "code",
      "source": [
        "model.evaluate(test_images, test_labels)"
      ],
      "metadata": {
        "colab": {
          "base_uri": "https://localhost:8080/"
        },
        "id": "kWLNfeWKZ68e",
        "outputId": "31f80017-181e-4eee-dc61-dc9f4ceec9e8"
      },
      "execution_count": null,
      "outputs": [
        {
          "output_type": "stream",
          "name": "stdout",
          "text": [
            "313/313 [==============================] - 1s 1ms/step - loss: 0.3359 - accuracy: 0.8827\n"
          ]
        },
        {
          "output_type": "execute_result",
          "data": {
            "text/plain": [
              "[0.33587655425071716, 0.8827000260353088]"
            ]
          },
          "metadata": {},
          "execution_count": 9
        }
      ]
    },
    {
      "cell_type": "markdown",
      "source": [
        "Agora que o modelo foi treinado, vamos brincar um pouco com a rede neural.\n",
        "O primeiro teste será para vermos a probabilidade elencada para cada saída."
      ],
      "metadata": {
        "id": "AkA59Q4qZuht"
      }
    },
    {
      "cell_type": "code",
      "source": [
        "import matplotlib.pyplot as plt\n",
        "plt.imshow(test_images[11])"
      ],
      "metadata": {
        "colab": {
          "base_uri": "https://localhost:8080/",
          "height": 283
        },
        "id": "e_6NzShI4ffB",
        "outputId": "11fd8e43-22ec-4e8d-9cae-6d49a160b2b9"
      },
      "execution_count": null,
      "outputs": [
        {
          "output_type": "execute_result",
          "data": {
            "text/plain": [
              "<matplotlib.image.AxesImage at 0x7faf977a3e90>"
            ]
          },
          "metadata": {},
          "execution_count": 10
        },
        {
          "output_type": "display_data",
          "data": {
            "text/plain": [
              "<Figure size 432x288 with 1 Axes>"
            ],
            "image/png": "[encoded data removed]"
          },
          "metadata": {
            "needs_background": "light"
          }
        }
      ]
    },
    {
      "cell_type": "code",
      "source": [
        "classificacao = model.predict(test_images)\n",
        "#classificacao[10]\n",
        "for i in range(10):\n",
        "  print(\"%.2f\"%classificacao[10,i])"
      ],
      "metadata": {
        "colab": {
          "base_uri": "https://localhost:8080/"
        },
        "id": "AHp0iEMM4sgC",
        "outputId": "2e893af8-aa98-424a-b714-0a05468f119e"
      },
      "execution_count": null,
      "outputs": [
        {
          "output_type": "stream",
          "name": "stdout",
          "text": [
            "0.00\n",
            "0.00\n",
            "0.08\n",
            "0.00\n",
            "0.91\n",
            "0.00\n",
            "0.01\n",
            "0.00\n",
            "0.00\n",
            "0.00\n"
          ]
        }
      ]
    },
    {
      "cell_type": "markdown",
      "source": [
        "Para matar a aula, vamos fazer a ideia do Davi. Vamos treinar a rede até que ela atinja uma acurácia desejada. Neste caso, utilizamos a função callback. A sacada do callback é utilizar como base uma acurácia desejada em detrimento do número de épocas."
      ],
      "metadata": {
        "id": "pOS4xGygDDE2"
      }
    },
    {
      "cell_type": "code",
      "source": [
        "import tensorflow as tf\n",
        "\n",
        "class myCallback(tf.keras.callbacks.Callback):\n",
        "  def on_epoch_end(self, epoch, logs={}):\n",
        "    if(logs.get('accuracy')>0.92):\n",
        "      print(\"\\n Foi atingida a acurácia de 92%, logo, o treinamento será cancelado!\")\n",
        "      self.model.stop_training = True\n",
        "\n",
        "mnist = tf.keras.datasets.fashion_mnist\n",
        "(training_images, training_labels), (test_images,test_labels) = mnist.load_data()\n",
        "\n",
        "training_images = training_images/255.0\n",
        "test_images = test_images/255.0\n",
        "\n",
        "model = tf.keras.models.Sequential([\n",
        "                                    tf.keras.layers.Flatten(),\n",
        "                                    tf.keras.layers.Dense(128, activation=tf.nn.relu),\n",
        "                                    tf.keras.layers.Dense(10, activation=tf.nn.softmax)\n",
        "                                    ]\n",
        ")\n",
        "\n",
        "model.compile(optimizer=tf.optimizers.Adam(),loss='sparse_categorical_crossentropy', metrics=['accuracy'])\n",
        "\n",
        "callback = myCallback()\n",
        "model.fit(training_images, training_labels, epochs=10000, callbacks=[callback])"
      ],
      "metadata": {
        "colab": {
          "base_uri": "https://localhost:8080/"
        },
        "id": "7I7ozX_7DWHf",
        "outputId": "65100744-d461-4400-8245-1d94f2a08e7b"
      },
      "execution_count": null,
      "outputs": [
        {
          "output_type": "stream",
          "name": "stdout",
          "text": [
            "Epoch 1/10000\n",
            "1875/1875 [==============================] - 4s 2ms/step - loss: 0.5003 - accuracy: 0.8243\n",
            "Epoch 2/10000\n",
            "1875/1875 [==============================] - 4s 2ms/step - loss: 0.3739 - accuracy: 0.8654\n",
            "Epoch 3/10000\n",
            "1875/1875 [==============================] - 4s 2ms/step - loss: 0.3377 - accuracy: 0.8767\n",
            "Epoch 4/10000\n",
            "1875/1875 [==============================] - 4s 2ms/step - loss: 0.3139 - accuracy: 0.8856\n",
            "Epoch 5/10000\n",
            "1875/1875 [==============================] - 4s 2ms/step - loss: 0.2967 - accuracy: 0.8901\n",
            "Epoch 6/10000\n",
            "1875/1875 [==============================] - 4s 2ms/step - loss: 0.2842 - accuracy: 0.8946\n",
            "Epoch 7/10000\n",
            "1875/1875 [==============================] - 4s 2ms/step - loss: 0.2701 - accuracy: 0.8990\n",
            "Epoch 8/10000\n",
            "1875/1875 [==============================] - 4s 2ms/step - loss: 0.2596 - accuracy: 0.9033\n",
            "Epoch 9/10000\n",
            "1875/1875 [==============================] - 4s 2ms/step - loss: 0.2481 - accuracy: 0.9071\n",
            "Epoch 10/10000\n",
            "1875/1875 [==============================] - 4s 2ms/step - loss: 0.2404 - accuracy: 0.9099\n",
            "Epoch 11/10000\n",
            "1875/1875 [==============================] - 4s 2ms/step - loss: 0.2314 - accuracy: 0.9134\n",
            "Epoch 12/10000\n",
            "1875/1875 [==============================] - 4s 2ms/step - loss: 0.2259 - accuracy: 0.9161\n",
            "Epoch 13/10000\n",
            "1875/1875 [==============================] - 4s 2ms/step - loss: 0.2195 - accuracy: 0.9182\n",
            "Epoch 14/10000\n",
            "1873/1875 [============================>.] - ETA: 0s - loss: 0.2120 - accuracy: 0.9202\n",
            " Foi atingida a acurácia de 92%, logo, o treinamento será cancelado!\n",
            "1875/1875 [==============================] - 4s 2ms/step - loss: 0.2120 - accuracy: 0.9202\n"
          ]
        },
        {
          "output_type": "execute_result",
          "data": {
            "text/plain": [
              "<keras.callbacks.History at 0x7faf978feb90>"
            ]
          },
          "metadata": {},
          "execution_count": 12
        }
      ]
    },
    {
      "cell_type": "markdown",
      "source": [
        "Vamos fazer um rede neural convolucional e com pooling para reconhecer as imagens do fashio mnsit"
      ],
      "metadata": {
        "id": "mPr1U8YMP7Mx"
      }
    },
    {
      "cell_type": "code",
      "source": [
        "import tensorflow as tf\n",
        "\n",
        "mnist = tf.keras.datasets.fashion_mnist\n",
        "\n",
        "(training_images,trainin_labels), (test_images, test_labels) = mnist.load_data()\n",
        "\n",
        "training_images = training_images/255.0\n",
        "training_images.reshape(60000, 28, 28, 1)\n",
        "\n",
        "test_images = test_images/255.0\n",
        "test_images.reshape(10000, 28, 28, 1)\n",
        "\n",
        "model = tf.keras.models.Sequential([\n",
        "                                    tf.keras.layers.Conv2D(64, (3,3), activation = tf.nn.relu, input_shape=(28,28,1)),\n",
        "                                    tf.keras.layers.MaxPooling2D(2,2),\n",
        "                                    tf.keras.layers.Flatten(),\n",
        "                                    tf.keras.layers.Dense(128, activation=tf.nn.relu),\n",
        "                                    tf.keras.layers.Dense(10, activation=tf.nn.softmax)\n",
        "])\n",
        "\n",
        "model.compile(optimizer=tf.optimizers.Adam(),loss='sparse_categorical_crossentropy', metrics=['accuracy'])\n",
        "model.fit(training_images, training_labels, epochs=5)"
      ],
      "metadata": {
        "colab": {
          "base_uri": "https://localhost:8080/"
        },
        "id": "USQq3cEBQAsh",
        "outputId": "2fe4104b-5104-45b2-dd6d-41126bb71d3a"
      },
      "execution_count": null,
      "outputs": [
        {
          "output_type": "stream",
          "name": "stdout",
          "text": [
            "Epoch 1/5\n",
            "1875/1875 [==============================] - 54s 29ms/step - loss: 0.3731 - accuracy: 0.8660\n",
            "Epoch 2/5\n",
            "1875/1875 [==============================] - 53s 28ms/step - loss: 0.2503 - accuracy: 0.9089\n",
            "Epoch 3/5\n",
            "1875/1875 [==============================] - 53s 28ms/step - loss: 0.2076 - accuracy: 0.9232\n",
            "Epoch 4/5\n",
            "1875/1875 [==============================] - 52s 28ms/step - loss: 0.1733 - accuracy: 0.9361\n",
            "Epoch 5/5\n",
            "1875/1875 [==============================] - 53s 28ms/step - loss: 0.1458 - accuracy: 0.9454\n"
          ]
        },
        {
          "output_type": "execute_result",
          "data": {
            "text/plain": [
              "<keras.callbacks.History at 0x7faf945bb650>"
            ]
          },
          "metadata": {},
          "execution_count": 23
        }
      ]
    },
    {
      "cell_type": "code",
      "source": [
        "model.evaluate(test_images, test_labels)"
      ],
      "metadata": {
        "id": "uGtHc4bFUEHL",
        "outputId": "4831186c-a133-473a-a3da-d139f3e071dc",
        "colab": {
          "base_uri": "https://localhost:8080/"
        }
      },
      "execution_count": null,
      "outputs": [
        {
          "output_type": "stream",
          "name": "stdout",
          "text": [
            "313/313 [==============================] - 2s 7ms/step - loss: 0.2513 - accuracy: 0.9143\n"
          ]
        },
        {
          "output_type": "execute_result",
          "data": {
            "text/plain": [
              "[0.2513201832771301, 0.9143000245094299]"
            ]
          },
          "metadata": {},
          "execution_count": 24
        }
      ]
    }
  ]
}